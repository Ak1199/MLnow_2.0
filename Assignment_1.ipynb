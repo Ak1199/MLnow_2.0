{
  "nbformat": 4,
  "nbformat_minor": 0,
  "metadata": {
    "colab": {
      "name": "Assignment_1.ipynb",
      "provenance": [],
      "collapsed_sections": [],
      "include_colab_link": true
    },
    "kernelspec": {
      "name": "python3",
      "display_name": "Python 3"
    }
  },
  "cells": [
    {
      "cell_type": "markdown",
      "metadata": {
        "id": "view-in-github",
        "colab_type": "text"
      },
      "source": [
        "<a href=\"https://colab.research.google.com/github/Ak1199/MLnow_2.0/blob/main/Assignment_1.ipynb\" target=\"_parent\"><img src=\"https://colab.research.google.com/assets/colab-badge.svg\" alt=\"Open In Colab\"/></a>"
      ]
    },
    {
      "cell_type": "markdown",
      "metadata": {
        "id": "q_569ugy6lyY"
      },
      "source": [
        "> Assignment 1 of `ML.now()` course\n",
        "\n",
        "\n",
        "`Univariate Linear Regression`\n",
        "\n",
        "[Dataset](https://archive.ics.uci.edu/ml/datasets/Student+Performance)\n",
        "\n",
        "**Author**:\n",
        " Apoorva Khairnar"
      ]
    },
    {
      "cell_type": "markdown",
      "metadata": {
        "id": "KmW9S6zjaauQ"
      },
      "source": [
        "## Setup"
      ]
    },
    {
      "cell_type": "code",
      "metadata": {
        "colab": {
          "base_uri": "https://localhost:8080/"
        },
        "id": "oX_QibhWsnnX",
        "outputId": "caaadec9-9b7f-40b8-fe9f-106d93993dd0"
      },
      "source": [
        "from google.colab import drive\n",
        "drive.mount('/content/drive')"
      ],
      "execution_count": 1,
      "outputs": [
        {
          "output_type": "stream",
          "text": [
            "Mounted at /content/drive\n"
          ],
          "name": "stdout"
        }
      ]
    },
    {
      "cell_type": "code",
      "metadata": {
        "colab": {
          "base_uri": "https://localhost:8080/"
        },
        "id": "wYuNn17Isvml",
        "outputId": "ef6301c7-f3ec-4001-b59a-761ad6941629"
      },
      "source": [
        "cd '/content/drive/MyDrive/Colab Notebooks/MLnow'"
      ],
      "execution_count": 2,
      "outputs": [
        {
          "output_type": "stream",
          "text": [
            "/content/drive/MyDrive/Colab Notebooks/MLnow\n"
          ],
          "name": "stdout"
        }
      ]
    },
    {
      "cell_type": "code",
      "metadata": {
        "id": "0rYwvbeMtPJg"
      },
      "source": [
        "import os"
      ],
      "execution_count": 3,
      "outputs": []
    },
    {
      "cell_type": "code",
      "metadata": {
        "id": "cnGQRbmes_tZ"
      },
      "source": [
        "import pandas as pd\n",
        "import numpy as np\n",
        "import tensorflow as tf\n",
        "from tensorflow import keras\n",
        "import os"
      ],
      "execution_count": 4,
      "outputs": []
    },
    {
      "cell_type": "code",
      "metadata": {
        "id": "VV-Ps6dJtX6B"
      },
      "source": [
        "df = pd.read_csv('student-mat.csv', sep=';')"
      ],
      "execution_count": 7,
      "outputs": []
    },
    {
      "cell_type": "code",
      "metadata": {
        "colab": {
          "base_uri": "https://localhost:8080/",
          "height": 377
        },
        "id": "2_KId_bptr05",
        "outputId": "75996c8f-d113-4d06-c945-27e3e9e455e9"
      },
      "source": [
        "df.head(10)"
      ],
      "execution_count": 8,
      "outputs": [
        {
          "output_type": "execute_result",
          "data": {
            "text/html": [
              "<div>\n",
              "<style scoped>\n",
              "    .dataframe tbody tr th:only-of-type {\n",
              "        vertical-align: middle;\n",
              "    }\n",
              "\n",
              "    .dataframe tbody tr th {\n",
              "        vertical-align: top;\n",
              "    }\n",
              "\n",
              "    .dataframe thead th {\n",
              "        text-align: right;\n",
              "    }\n",
              "</style>\n",
              "<table border=\"1\" class=\"dataframe\">\n",
              "  <thead>\n",
              "    <tr style=\"text-align: right;\">\n",
              "      <th></th>\n",
              "      <th>school</th>\n",
              "      <th>sex</th>\n",
              "      <th>age</th>\n",
              "      <th>address</th>\n",
              "      <th>famsize</th>\n",
              "      <th>Pstatus</th>\n",
              "      <th>Medu</th>\n",
              "      <th>Fedu</th>\n",
              "      <th>Mjob</th>\n",
              "      <th>Fjob</th>\n",
              "      <th>reason</th>\n",
              "      <th>guardian</th>\n",
              "      <th>traveltime</th>\n",
              "      <th>studytime</th>\n",
              "      <th>failures</th>\n",
              "      <th>schoolsup</th>\n",
              "      <th>famsup</th>\n",
              "      <th>paid</th>\n",
              "      <th>activities</th>\n",
              "      <th>nursery</th>\n",
              "      <th>higher</th>\n",
              "      <th>internet</th>\n",
              "      <th>romantic</th>\n",
              "      <th>famrel</th>\n",
              "      <th>freetime</th>\n",
              "      <th>goout</th>\n",
              "      <th>Dalc</th>\n",
              "      <th>Walc</th>\n",
              "      <th>health</th>\n",
              "      <th>absences</th>\n",
              "      <th>G1</th>\n",
              "      <th>G2</th>\n",
              "      <th>G3</th>\n",
              "    </tr>\n",
              "  </thead>\n",
              "  <tbody>\n",
              "    <tr>\n",
              "      <th>0</th>\n",
              "      <td>GP</td>\n",
              "      <td>F</td>\n",
              "      <td>18</td>\n",
              "      <td>U</td>\n",
              "      <td>GT3</td>\n",
              "      <td>A</td>\n",
              "      <td>4</td>\n",
              "      <td>4</td>\n",
              "      <td>at_home</td>\n",
              "      <td>teacher</td>\n",
              "      <td>course</td>\n",
              "      <td>mother</td>\n",
              "      <td>2</td>\n",
              "      <td>2</td>\n",
              "      <td>0</td>\n",
              "      <td>yes</td>\n",
              "      <td>no</td>\n",
              "      <td>no</td>\n",
              "      <td>no</td>\n",
              "      <td>yes</td>\n",
              "      <td>yes</td>\n",
              "      <td>no</td>\n",
              "      <td>no</td>\n",
              "      <td>4</td>\n",
              "      <td>3</td>\n",
              "      <td>4</td>\n",
              "      <td>1</td>\n",
              "      <td>1</td>\n",
              "      <td>3</td>\n",
              "      <td>6</td>\n",
              "      <td>5</td>\n",
              "      <td>6</td>\n",
              "      <td>6</td>\n",
              "    </tr>\n",
              "    <tr>\n",
              "      <th>1</th>\n",
              "      <td>GP</td>\n",
              "      <td>F</td>\n",
              "      <td>17</td>\n",
              "      <td>U</td>\n",
              "      <td>GT3</td>\n",
              "      <td>T</td>\n",
              "      <td>1</td>\n",
              "      <td>1</td>\n",
              "      <td>at_home</td>\n",
              "      <td>other</td>\n",
              "      <td>course</td>\n",
              "      <td>father</td>\n",
              "      <td>1</td>\n",
              "      <td>2</td>\n",
              "      <td>0</td>\n",
              "      <td>no</td>\n",
              "      <td>yes</td>\n",
              "      <td>no</td>\n",
              "      <td>no</td>\n",
              "      <td>no</td>\n",
              "      <td>yes</td>\n",
              "      <td>yes</td>\n",
              "      <td>no</td>\n",
              "      <td>5</td>\n",
              "      <td>3</td>\n",
              "      <td>3</td>\n",
              "      <td>1</td>\n",
              "      <td>1</td>\n",
              "      <td>3</td>\n",
              "      <td>4</td>\n",
              "      <td>5</td>\n",
              "      <td>5</td>\n",
              "      <td>6</td>\n",
              "    </tr>\n",
              "    <tr>\n",
              "      <th>2</th>\n",
              "      <td>GP</td>\n",
              "      <td>F</td>\n",
              "      <td>15</td>\n",
              "      <td>U</td>\n",
              "      <td>LE3</td>\n",
              "      <td>T</td>\n",
              "      <td>1</td>\n",
              "      <td>1</td>\n",
              "      <td>at_home</td>\n",
              "      <td>other</td>\n",
              "      <td>other</td>\n",
              "      <td>mother</td>\n",
              "      <td>1</td>\n",
              "      <td>2</td>\n",
              "      <td>3</td>\n",
              "      <td>yes</td>\n",
              "      <td>no</td>\n",
              "      <td>yes</td>\n",
              "      <td>no</td>\n",
              "      <td>yes</td>\n",
              "      <td>yes</td>\n",
              "      <td>yes</td>\n",
              "      <td>no</td>\n",
              "      <td>4</td>\n",
              "      <td>3</td>\n",
              "      <td>2</td>\n",
              "      <td>2</td>\n",
              "      <td>3</td>\n",
              "      <td>3</td>\n",
              "      <td>10</td>\n",
              "      <td>7</td>\n",
              "      <td>8</td>\n",
              "      <td>10</td>\n",
              "    </tr>\n",
              "    <tr>\n",
              "      <th>3</th>\n",
              "      <td>GP</td>\n",
              "      <td>F</td>\n",
              "      <td>15</td>\n",
              "      <td>U</td>\n",
              "      <td>GT3</td>\n",
              "      <td>T</td>\n",
              "      <td>4</td>\n",
              "      <td>2</td>\n",
              "      <td>health</td>\n",
              "      <td>services</td>\n",
              "      <td>home</td>\n",
              "      <td>mother</td>\n",
              "      <td>1</td>\n",
              "      <td>3</td>\n",
              "      <td>0</td>\n",
              "      <td>no</td>\n",
              "      <td>yes</td>\n",
              "      <td>yes</td>\n",
              "      <td>yes</td>\n",
              "      <td>yes</td>\n",
              "      <td>yes</td>\n",
              "      <td>yes</td>\n",
              "      <td>yes</td>\n",
              "      <td>3</td>\n",
              "      <td>2</td>\n",
              "      <td>2</td>\n",
              "      <td>1</td>\n",
              "      <td>1</td>\n",
              "      <td>5</td>\n",
              "      <td>2</td>\n",
              "      <td>15</td>\n",
              "      <td>14</td>\n",
              "      <td>15</td>\n",
              "    </tr>\n",
              "    <tr>\n",
              "      <th>4</th>\n",
              "      <td>GP</td>\n",
              "      <td>F</td>\n",
              "      <td>16</td>\n",
              "      <td>U</td>\n",
              "      <td>GT3</td>\n",
              "      <td>T</td>\n",
              "      <td>3</td>\n",
              "      <td>3</td>\n",
              "      <td>other</td>\n",
              "      <td>other</td>\n",
              "      <td>home</td>\n",
              "      <td>father</td>\n",
              "      <td>1</td>\n",
              "      <td>2</td>\n",
              "      <td>0</td>\n",
              "      <td>no</td>\n",
              "      <td>yes</td>\n",
              "      <td>yes</td>\n",
              "      <td>no</td>\n",
              "      <td>yes</td>\n",
              "      <td>yes</td>\n",
              "      <td>no</td>\n",
              "      <td>no</td>\n",
              "      <td>4</td>\n",
              "      <td>3</td>\n",
              "      <td>2</td>\n",
              "      <td>1</td>\n",
              "      <td>2</td>\n",
              "      <td>5</td>\n",
              "      <td>4</td>\n",
              "      <td>6</td>\n",
              "      <td>10</td>\n",
              "      <td>10</td>\n",
              "    </tr>\n",
              "    <tr>\n",
              "      <th>5</th>\n",
              "      <td>GP</td>\n",
              "      <td>M</td>\n",
              "      <td>16</td>\n",
              "      <td>U</td>\n",
              "      <td>LE3</td>\n",
              "      <td>T</td>\n",
              "      <td>4</td>\n",
              "      <td>3</td>\n",
              "      <td>services</td>\n",
              "      <td>other</td>\n",
              "      <td>reputation</td>\n",
              "      <td>mother</td>\n",
              "      <td>1</td>\n",
              "      <td>2</td>\n",
              "      <td>0</td>\n",
              "      <td>no</td>\n",
              "      <td>yes</td>\n",
              "      <td>yes</td>\n",
              "      <td>yes</td>\n",
              "      <td>yes</td>\n",
              "      <td>yes</td>\n",
              "      <td>yes</td>\n",
              "      <td>no</td>\n",
              "      <td>5</td>\n",
              "      <td>4</td>\n",
              "      <td>2</td>\n",
              "      <td>1</td>\n",
              "      <td>2</td>\n",
              "      <td>5</td>\n",
              "      <td>10</td>\n",
              "      <td>15</td>\n",
              "      <td>15</td>\n",
              "      <td>15</td>\n",
              "    </tr>\n",
              "    <tr>\n",
              "      <th>6</th>\n",
              "      <td>GP</td>\n",
              "      <td>M</td>\n",
              "      <td>16</td>\n",
              "      <td>U</td>\n",
              "      <td>LE3</td>\n",
              "      <td>T</td>\n",
              "      <td>2</td>\n",
              "      <td>2</td>\n",
              "      <td>other</td>\n",
              "      <td>other</td>\n",
              "      <td>home</td>\n",
              "      <td>mother</td>\n",
              "      <td>1</td>\n",
              "      <td>2</td>\n",
              "      <td>0</td>\n",
              "      <td>no</td>\n",
              "      <td>no</td>\n",
              "      <td>no</td>\n",
              "      <td>no</td>\n",
              "      <td>yes</td>\n",
              "      <td>yes</td>\n",
              "      <td>yes</td>\n",
              "      <td>no</td>\n",
              "      <td>4</td>\n",
              "      <td>4</td>\n",
              "      <td>4</td>\n",
              "      <td>1</td>\n",
              "      <td>1</td>\n",
              "      <td>3</td>\n",
              "      <td>0</td>\n",
              "      <td>12</td>\n",
              "      <td>12</td>\n",
              "      <td>11</td>\n",
              "    </tr>\n",
              "    <tr>\n",
              "      <th>7</th>\n",
              "      <td>GP</td>\n",
              "      <td>F</td>\n",
              "      <td>17</td>\n",
              "      <td>U</td>\n",
              "      <td>GT3</td>\n",
              "      <td>A</td>\n",
              "      <td>4</td>\n",
              "      <td>4</td>\n",
              "      <td>other</td>\n",
              "      <td>teacher</td>\n",
              "      <td>home</td>\n",
              "      <td>mother</td>\n",
              "      <td>2</td>\n",
              "      <td>2</td>\n",
              "      <td>0</td>\n",
              "      <td>yes</td>\n",
              "      <td>yes</td>\n",
              "      <td>no</td>\n",
              "      <td>no</td>\n",
              "      <td>yes</td>\n",
              "      <td>yes</td>\n",
              "      <td>no</td>\n",
              "      <td>no</td>\n",
              "      <td>4</td>\n",
              "      <td>1</td>\n",
              "      <td>4</td>\n",
              "      <td>1</td>\n",
              "      <td>1</td>\n",
              "      <td>1</td>\n",
              "      <td>6</td>\n",
              "      <td>6</td>\n",
              "      <td>5</td>\n",
              "      <td>6</td>\n",
              "    </tr>\n",
              "    <tr>\n",
              "      <th>8</th>\n",
              "      <td>GP</td>\n",
              "      <td>M</td>\n",
              "      <td>15</td>\n",
              "      <td>U</td>\n",
              "      <td>LE3</td>\n",
              "      <td>A</td>\n",
              "      <td>3</td>\n",
              "      <td>2</td>\n",
              "      <td>services</td>\n",
              "      <td>other</td>\n",
              "      <td>home</td>\n",
              "      <td>mother</td>\n",
              "      <td>1</td>\n",
              "      <td>2</td>\n",
              "      <td>0</td>\n",
              "      <td>no</td>\n",
              "      <td>yes</td>\n",
              "      <td>yes</td>\n",
              "      <td>no</td>\n",
              "      <td>yes</td>\n",
              "      <td>yes</td>\n",
              "      <td>yes</td>\n",
              "      <td>no</td>\n",
              "      <td>4</td>\n",
              "      <td>2</td>\n",
              "      <td>2</td>\n",
              "      <td>1</td>\n",
              "      <td>1</td>\n",
              "      <td>1</td>\n",
              "      <td>0</td>\n",
              "      <td>16</td>\n",
              "      <td>18</td>\n",
              "      <td>19</td>\n",
              "    </tr>\n",
              "    <tr>\n",
              "      <th>9</th>\n",
              "      <td>GP</td>\n",
              "      <td>M</td>\n",
              "      <td>15</td>\n",
              "      <td>U</td>\n",
              "      <td>GT3</td>\n",
              "      <td>T</td>\n",
              "      <td>3</td>\n",
              "      <td>4</td>\n",
              "      <td>other</td>\n",
              "      <td>other</td>\n",
              "      <td>home</td>\n",
              "      <td>mother</td>\n",
              "      <td>1</td>\n",
              "      <td>2</td>\n",
              "      <td>0</td>\n",
              "      <td>no</td>\n",
              "      <td>yes</td>\n",
              "      <td>yes</td>\n",
              "      <td>yes</td>\n",
              "      <td>yes</td>\n",
              "      <td>yes</td>\n",
              "      <td>yes</td>\n",
              "      <td>no</td>\n",
              "      <td>5</td>\n",
              "      <td>5</td>\n",
              "      <td>1</td>\n",
              "      <td>1</td>\n",
              "      <td>1</td>\n",
              "      <td>5</td>\n",
              "      <td>0</td>\n",
              "      <td>14</td>\n",
              "      <td>15</td>\n",
              "      <td>15</td>\n",
              "    </tr>\n",
              "  </tbody>\n",
              "</table>\n",
              "</div>"
            ],
            "text/plain": [
              "  school sex  age address famsize Pstatus  ...  Walc  health absences  G1  G2  G3\n",
              "0     GP   F   18       U     GT3       A  ...     1       3        6   5   6   6\n",
              "1     GP   F   17       U     GT3       T  ...     1       3        4   5   5   6\n",
              "2     GP   F   15       U     LE3       T  ...     3       3       10   7   8  10\n",
              "3     GP   F   15       U     GT3       T  ...     1       5        2  15  14  15\n",
              "4     GP   F   16       U     GT3       T  ...     2       5        4   6  10  10\n",
              "5     GP   M   16       U     LE3       T  ...     2       5       10  15  15  15\n",
              "6     GP   M   16       U     LE3       T  ...     1       3        0  12  12  11\n",
              "7     GP   F   17       U     GT3       A  ...     1       1        6   6   5   6\n",
              "8     GP   M   15       U     LE3       A  ...     1       1        0  16  18  19\n",
              "9     GP   M   15       U     GT3       T  ...     1       5        0  14  15  15\n",
              "\n",
              "[10 rows x 33 columns]"
            ]
          },
          "metadata": {
            "tags": []
          },
          "execution_count": 8
        }
      ]
    },
    {
      "cell_type": "markdown",
      "metadata": {
        "id": "i2bal50yG_PZ"
      },
      "source": [
        "We are just going to consider the columns `G1` and `G3` for univariate linear regression\n",
        "\n",
        "$G3_i = G1_i  \\cdot \\theta_1 + \\theta_0$"
      ]
    },
    {
      "cell_type": "code",
      "metadata": {
        "colab": {
          "base_uri": "https://localhost:8080/",
          "height": 203
        },
        "id": "Yw0PNCuTSEDC",
        "outputId": "b25d1ba4-fbd7-4a64-d86a-557ad858857b"
      },
      "source": [
        "unidf = df[['G1', 'G3']]\n",
        "unidf.head(5)"
      ],
      "execution_count": 9,
      "outputs": [
        {
          "output_type": "execute_result",
          "data": {
            "text/html": [
              "<div>\n",
              "<style scoped>\n",
              "    .dataframe tbody tr th:only-of-type {\n",
              "        vertical-align: middle;\n",
              "    }\n",
              "\n",
              "    .dataframe tbody tr th {\n",
              "        vertical-align: top;\n",
              "    }\n",
              "\n",
              "    .dataframe thead th {\n",
              "        text-align: right;\n",
              "    }\n",
              "</style>\n",
              "<table border=\"1\" class=\"dataframe\">\n",
              "  <thead>\n",
              "    <tr style=\"text-align: right;\">\n",
              "      <th></th>\n",
              "      <th>G1</th>\n",
              "      <th>G3</th>\n",
              "    </tr>\n",
              "  </thead>\n",
              "  <tbody>\n",
              "    <tr>\n",
              "      <th>0</th>\n",
              "      <td>5</td>\n",
              "      <td>6</td>\n",
              "    </tr>\n",
              "    <tr>\n",
              "      <th>1</th>\n",
              "      <td>5</td>\n",
              "      <td>6</td>\n",
              "    </tr>\n",
              "    <tr>\n",
              "      <th>2</th>\n",
              "      <td>7</td>\n",
              "      <td>10</td>\n",
              "    </tr>\n",
              "    <tr>\n",
              "      <th>3</th>\n",
              "      <td>15</td>\n",
              "      <td>15</td>\n",
              "    </tr>\n",
              "    <tr>\n",
              "      <th>4</th>\n",
              "      <td>6</td>\n",
              "      <td>10</td>\n",
              "    </tr>\n",
              "  </tbody>\n",
              "</table>\n",
              "</div>"
            ],
            "text/plain": [
              "   G1  G3\n",
              "0   5   6\n",
              "1   5   6\n",
              "2   7  10\n",
              "3  15  15\n",
              "4   6  10"
            ]
          },
          "metadata": {
            "tags": []
          },
          "execution_count": 9
        }
      ]
    },
    {
      "cell_type": "code",
      "metadata": {
        "id": "eyzP9mL4Hmb5"
      },
      "source": [
        "unidf.to_csv('univariate_df.csv')"
      ],
      "execution_count": 12,
      "outputs": []
    },
    {
      "cell_type": "code",
      "metadata": {
        "colab": {
          "base_uri": "https://localhost:8080/"
        },
        "id": "I-3qK_nNxnTA",
        "outputId": "fa6c9676-be60-4419-c275-33ab8b9980c7"
      },
      "source": [
        "ls"
      ],
      "execution_count": 13,
      "outputs": [
        {
          "output_type": "stream",
          "text": [
            "Assignment_1.ipynb  univariate_df.csv\n",
            "student-mat.csv     univariate_MathData_2.csv\n"
          ],
          "name": "stdout"
        }
      ]
    },
    {
      "cell_type": "markdown",
      "metadata": {
        "id": "ImV3p6AKxszU"
      },
      "source": [
        "## Data visualization"
      ]
    },
    {
      "cell_type": "code",
      "metadata": {
        "colab": {
          "base_uri": "https://localhost:8080/",
          "height": 153
        },
        "id": "RqumcsZLxq4v",
        "outputId": "43d01797-1b9e-4c16-a6b2-5887d58044ea"
      },
      "source": [
        "import seaborn as sns\n",
        "sns.palplot(sns.color_palette('RdBu'))\n",
        "pal = sns.color_palette('RdBu', 6)\n",
        "pal.as_hex()\n",
        "\n",
        "import matplotlib.pyplot as plt\n",
        "plt.style.use(['seaborn'])\n",
        "plot_colors = ['#1f618d', '#e74c3c']\n",
        "sns.set_palette(plot_colors)\n",
        "sns.palplot(sns.color_palette(plot_colors))"
      ],
      "execution_count": 29,
      "outputs": [
        {
          "output_type": "display_data",
          "data": {
            "image/png": "[encoded data removed]",
            "text/plain": [
              "<Figure size 432x72 with 1 Axes>"
            ]
          },
          "metadata": {
            "tags": []
          }
        },
        {
          "output_type": "display_data",
          "data": {
            "image/png": "[encoded data removed]",
            "text/plain": [
              "<Figure size 144x72 with 1 Axes>"
            ]
          },
          "metadata": {
            "tags": []
          }
        }
      ]
    },
    {
      "cell_type": "code",
      "metadata": {
        "colab": {
          "base_uri": "https://localhost:8080/"
        },
        "id": "A6MT5E8Fy7MZ",
        "outputId": "8cf652b4-5a80-41ce-ba1c-2992d6422626"
      },
      "source": [
        "unidf.columns"
      ],
      "execution_count": 16,
      "outputs": [
        {
          "output_type": "execute_result",
          "data": {
            "text/plain": [
              "Index(['G1', 'G3'], dtype='object')"
            ]
          },
          "metadata": {
            "tags": []
          },
          "execution_count": 16
        }
      ]
    },
    {
      "cell_type": "code",
      "metadata": {
        "colab": {
          "base_uri": "https://localhost:8080/",
          "height": 391
        },
        "id": "PrsTwdHHzBbk",
        "outputId": "70791f5e-aeaf-4630-84e5-930810a3bb4d"
      },
      "source": [
        "#pairplot for all the values\n",
        "\n",
        "sns.pairplot(unidf, x_vars = ['G1', 'G3'], y_vars =  ['G1', 'G3'], diag_kind='kde')"
      ],
      "execution_count": 30,
      "outputs": [
        {
          "output_type": "execute_result",
          "data": {
            "text/plain": [
              "<seaborn.axisgrid.PairGrid at 0x7ff742656910>"
            ]
          },
          "metadata": {
            "tags": []
          },
          "execution_count": 30
        },
        {
          "output_type": "display_data",
          "data": {
            "image/png": "[encoded data removed]",
            "text/plain": [
              "<Figure size 360x360 with 6 Axes>"
            ]
          },
          "metadata": {
            "tags": []
          }
        }
      ]
    },
    {
      "cell_type": "markdown",
      "metadata": {
        "id": "Klm33YcpKZkl"
      },
      "source": [
        "## Data Splits"
      ]
    },
    {
      "cell_type": "code",
      "metadata": {
        "colab": {
          "base_uri": "https://localhost:8080/"
        },
        "id": "UwrSOCKS1NhN",
        "outputId": "433e32b0-ba3c-4379-af94-32f797b619fd"
      },
      "source": [
        "train_set = unidf.sample(frac=0.8, random_state=0) \n",
        "test_set = unidf.drop(train_set.index)\n",
        "\n",
        "print(train_set.head())\n",
        "print(test_set.head())"
      ],
      "execution_count": 18,
      "outputs": [
        {
          "output_type": "stream",
          "text": [
            "     G1  G3\n",
            "329  14  14\n",
            "318  11  10\n",
            "317   9   9\n",
            "65   16  15\n",
            "59   15  16\n",
            "    G1  G3\n",
            "9   14  15\n",
            "25   6   8\n",
            "28  11  11\n",
            "31  17  17\n",
            "32  17  16\n"
          ],
          "name": "stdout"
        }
      ]
    },
    {
      "cell_type": "code",
      "metadata": {
        "colab": {
          "base_uri": "https://localhost:8080/"
        },
        "id": "YWO2xRV53wV-",
        "outputId": "9315c2f5-a366-4a96-811c-694a99cb284b"
      },
      "source": [
        "print(train_set.shape)\n",
        "print(test_set.shape)"
      ],
      "execution_count": 19,
      "outputs": [
        {
          "output_type": "stream",
          "text": [
            "(316, 2)\n",
            "(79, 2)\n"
          ],
          "name": "stdout"
        }
      ]
    },
    {
      "cell_type": "code",
      "metadata": {
        "colab": {
          "base_uri": "https://localhost:8080/"
        },
        "id": "OmDTbvMC32hg",
        "outputId": "b6f86f04-e907-4e6a-889e-5387eb46a6c6"
      },
      "source": [
        "#copy the train_set df for getting the features\n",
        "\n",
        "trainFeatures = train_set.copy()\n",
        "testFeatures = test_set.copy()\n",
        "\n",
        "print(trainFeatures.head())\n",
        "print(testFeatures.head())"
      ],
      "execution_count": 20,
      "outputs": [
        {
          "output_type": "stream",
          "text": [
            "     G1  G3\n",
            "329  14  14\n",
            "318  11  10\n",
            "317   9   9\n",
            "65   16  15\n",
            "59   15  16\n",
            "    G1  G3\n",
            "9   14  15\n",
            "25   6   8\n",
            "28  11  11\n",
            "31  17  17\n",
            "32  17  16\n"
          ],
          "name": "stdout"
        }
      ]
    },
    {
      "cell_type": "code",
      "metadata": {
        "colab": {
          "base_uri": "https://localhost:8080/"
        },
        "id": "jSR0_uni4ayh",
        "outputId": "2932ca19-7fcb-4691-f38c-a468fea9f758"
      },
      "source": [
        "#G3 to labels\n",
        "\n",
        "train_Labels = trainFeatures.pop('G3')\n",
        "test_Labels = testFeatures.pop('G3')\n",
        "\n",
        "print(train_Labels.head())\n",
        "print(test_Labels.head())"
      ],
      "execution_count": 21,
      "outputs": [
        {
          "output_type": "stream",
          "text": [
            "329    14\n",
            "318    10\n",
            "317     9\n",
            "65     15\n",
            "59     16\n",
            "Name: G3, dtype: int64\n",
            "9     15\n",
            "25     8\n",
            "28    11\n",
            "31    17\n",
            "32    16\n",
            "Name: G3, dtype: int64\n"
          ],
          "name": "stdout"
        }
      ]
    },
    {
      "cell_type": "code",
      "metadata": {
        "colab": {
          "base_uri": "https://localhost:8080/"
        },
        "id": "HnGSqb-q4wk8",
        "outputId": "7daa6ddd-17db-47a8-bf05-2f5e6d74e175"
      },
      "source": [
        "print(trainFeatures.head())\n",
        "print(testFeatures.head())"
      ],
      "execution_count": 22,
      "outputs": [
        {
          "output_type": "stream",
          "text": [
            "     G1\n",
            "329  14\n",
            "318  11\n",
            "317   9\n",
            "65   16\n",
            "59   15\n",
            "    G1\n",
            "9   14\n",
            "25   6\n",
            "28  11\n",
            "31  17\n",
            "32  17\n"
          ],
          "name": "stdout"
        }
      ]
    },
    {
      "cell_type": "code",
      "metadata": {
        "id": "XPTSq34jk4o_"
      },
      "source": [
        "model = tf.keras.Sequential([tf.keras.layers.Dense(1)])"
      ],
      "execution_count": 23,
      "outputs": []
    },
    {
      "cell_type": "code",
      "metadata": {
        "id": "4C4GKBdE6iCE"
      },
      "source": [
        "model.compile(\n",
        "    loss = 'mean_absolute_error',\n",
        "    optimizer = tf.keras.optimizers.Adam(0.001),\n",
        "    metrics = ['mae', 'mse']\n",
        ")"
      ],
      "execution_count": 24,
      "outputs": []
    },
    {
      "cell_type": "code",
      "metadata": {
        "colab": {
          "base_uri": "https://localhost:8080/"
        },
        "id": "d_A7DrhB6zvm",
        "outputId": "c0bfa057-602d-4a9f-e392-8e722a284b48"
      },
      "source": [
        "numEpochs = 300\n",
        "history = model.fit(x = trainFeatures, y = train_Labels, validation_data = (testFeatures, test_Labels), epochs = numEpochs)"
      ],
      "execution_count": 25,
      "outputs": [
        {
          "output_type": "stream",
          "text": [
            "Epoch 1/300\n",
            "10/10 [==============================] - 1s 20ms/step - loss: 23.9441 - mae: 23.9441 - mse: 641.1501 - val_loss: 25.3183 - val_mae: 25.3183 - val_mse: 714.5410\n",
            "Epoch 2/300\n",
            "10/10 [==============================] - 0s 3ms/step - loss: 23.8261 - mae: 23.8261 - mse: 634.9969 - val_loss: 25.1936 - val_mae: 25.1936 - val_mse: 707.6810\n",
            "Epoch 3/300\n",
            "10/10 [==============================] - 0s 3ms/step - loss: 23.7092 - mae: 23.7092 - mse: 628.9933 - val_loss: 25.0688 - val_mae: 25.0688 - val_mse: 700.8422\n",
            "Epoch 4/300\n",
            "10/10 [==============================] - 0s 3ms/step - loss: 23.5914 - mae: 23.5914 - mse: 622.8937 - val_loss: 24.9442 - val_mae: 24.9442 - val_mse: 694.0557\n",
            "Epoch 5/300\n",
            "10/10 [==============================] - 0s 3ms/step - loss: 23.4738 - mae: 23.4738 - mse: 616.8499 - val_loss: 24.8198 - val_mae: 24.8198 - val_mse: 687.3095\n",
            "Epoch 6/300\n",
            "10/10 [==============================] - 0s 3ms/step - loss: 23.3564 - mae: 23.3564 - mse: 610.8734 - val_loss: 24.6953 - val_mae: 24.6953 - val_mse: 680.5911\n",
            "Epoch 7/300\n",
            "10/10 [==============================] - 0s 3ms/step - loss: 23.2389 - mae: 23.2389 - mse: 604.9091 - val_loss: 24.5707 - val_mae: 24.5707 - val_mse: 673.9028\n",
            "Epoch 8/300\n",
            "10/10 [==============================] - 0s 3ms/step - loss: 23.1215 - mae: 23.1215 - mse: 598.9855 - val_loss: 24.4460 - val_mae: 24.4460 - val_mse: 667.2421\n",
            "Epoch 9/300\n",
            "10/10 [==============================] - 0s 3ms/step - loss: 23.0039 - mae: 23.0039 - mse: 593.0701 - val_loss: 24.3216 - val_mae: 24.3216 - val_mse: 660.6285\n",
            "Epoch 10/300\n",
            "10/10 [==============================] - 0s 3ms/step - loss: 22.8861 - mae: 22.8861 - mse: 587.1512 - val_loss: 24.1974 - val_mae: 24.1974 - val_mse: 654.0578\n",
            "Epoch 11/300\n",
            "10/10 [==============================] - 0s 3ms/step - loss: 22.7682 - mae: 22.7682 - mse: 581.2246 - val_loss: 24.0735 - val_mae: 24.0735 - val_mse: 647.5396\n",
            "Epoch 12/300\n",
            "10/10 [==============================] - 0s 3ms/step - loss: 22.6520 - mae: 22.6520 - mse: 575.5692 - val_loss: 23.9482 - val_mae: 23.9482 - val_mse: 640.9810\n",
            "Epoch 13/300\n",
            "10/10 [==============================] - 0s 3ms/step - loss: 22.5340 - mae: 22.5340 - mse: 569.7379 - val_loss: 23.8236 - val_mae: 23.8236 - val_mse: 634.4891\n",
            "Epoch 14/300\n",
            "10/10 [==============================] - 0s 3ms/step - loss: 22.4157 - mae: 22.4157 - mse: 563.9238 - val_loss: 23.6996 - val_mae: 23.6996 - val_mse: 628.0652\n",
            "Epoch 15/300\n",
            "10/10 [==============================] - 0s 3ms/step - loss: 22.2991 - mae: 22.2991 - mse: 558.2302 - val_loss: 23.5748 - val_mae: 23.5748 - val_mse: 621.6296\n",
            "Epoch 16/300\n",
            "10/10 [==============================] - 0s 3ms/step - loss: 22.1814 - mae: 22.1814 - mse: 552.5283 - val_loss: 23.4502 - val_mae: 23.4502 - val_mse: 615.2421\n",
            "Epoch 17/300\n",
            "10/10 [==============================] - 0s 3ms/step - loss: 22.0633 - mae: 22.0633 - mse: 546.7782 - val_loss: 23.3263 - val_mae: 23.3263 - val_mse: 608.9198\n",
            "Epoch 18/300\n",
            "10/10 [==============================] - 0s 3ms/step - loss: 21.9468 - mae: 21.9468 - mse: 541.2501 - val_loss: 23.2012 - val_mae: 23.2012 - val_mse: 602.5760\n",
            "Epoch 19/300\n",
            "10/10 [==============================] - 0s 3ms/step - loss: 21.8283 - mae: 21.8283 - mse: 535.5298 - val_loss: 23.0772 - val_mae: 23.0772 - val_mse: 596.3163\n",
            "Epoch 20/300\n",
            "10/10 [==============================] - 0s 3ms/step - loss: 21.7117 - mae: 21.7117 - mse: 530.0624 - val_loss: 22.9522 - val_mae: 22.9522 - val_mse: 590.0366\n",
            "Epoch 21/300\n",
            "10/10 [==============================] - 0s 3ms/step - loss: 21.5935 - mae: 21.5935 - mse: 524.4360 - val_loss: 22.8278 - val_mae: 22.8278 - val_mse: 583.8262\n",
            "Epoch 22/300\n",
            "10/10 [==============================] - 0s 3ms/step - loss: 21.4759 - mae: 21.4759 - mse: 518.8973 - val_loss: 22.7035 - val_mae: 22.7035 - val_mse: 577.6514\n",
            "Epoch 23/300\n",
            "10/10 [==============================] - 0s 3ms/step - loss: 21.3584 - mae: 21.3584 - mse: 513.3995 - val_loss: 22.5791 - val_mae: 22.5791 - val_mse: 571.5073\n",
            "Epoch 24/300\n",
            "10/10 [==============================] - 0s 3ms/step - loss: 21.2411 - mae: 21.2411 - mse: 507.9631 - val_loss: 22.4545 - val_mae: 22.4545 - val_mse: 565.3799\n",
            "Epoch 25/300\n",
            "10/10 [==============================] - 0s 3ms/step - loss: 21.1233 - mae: 21.1233 - mse: 502.5366 - val_loss: 22.3299 - val_mae: 22.3299 - val_mse: 559.2942\n",
            "Epoch 26/300\n",
            "10/10 [==============================] - 0s 3ms/step - loss: 21.0058 - mae: 21.0058 - mse: 497.0981 - val_loss: 22.2053 - val_mae: 22.2053 - val_mse: 553.2391\n",
            "Epoch 27/300\n",
            "10/10 [==============================] - 0s 3ms/step - loss: 20.8888 - mae: 20.8888 - mse: 491.8209 - val_loss: 22.0801 - val_mae: 22.0801 - val_mse: 547.1855\n",
            "Epoch 28/300\n",
            "10/10 [==============================] - 0s 3ms/step - loss: 20.7707 - mae: 20.7707 - mse: 486.4184 - val_loss: 21.9555 - val_mae: 21.9555 - val_mse: 541.1987\n",
            "Epoch 29/300\n",
            "10/10 [==============================] - 0s 3ms/step - loss: 20.6533 - mae: 20.6533 - mse: 481.1320 - val_loss: 21.8309 - val_mae: 21.8309 - val_mse: 535.2417\n",
            "Epoch 30/300\n",
            "10/10 [==============================] - 0s 3ms/step - loss: 20.5360 - mae: 20.5360 - mse: 475.8615 - val_loss: 21.7062 - val_mae: 21.7062 - val_mse: 529.3156\n",
            "Epoch 31/300\n",
            "10/10 [==============================] - 0s 3ms/step - loss: 20.4176 - mae: 20.4176 - mse: 470.5188 - val_loss: 21.5824 - val_mae: 21.5824 - val_mse: 523.4647\n",
            "Epoch 32/300\n",
            "10/10 [==============================] - 0s 3ms/step - loss: 20.3000 - mae: 20.3000 - mse: 465.2301 - val_loss: 21.4588 - val_mae: 21.4588 - val_mse: 517.6544\n",
            "Epoch 33/300\n",
            "10/10 [==============================] - 0s 3ms/step - loss: 20.1831 - mae: 20.1831 - mse: 460.1198 - val_loss: 21.3342 - val_mae: 21.3342 - val_mse: 511.8340\n",
            "Epoch 34/300\n",
            "10/10 [==============================] - 0s 3ms/step - loss: 20.0655 - mae: 20.0655 - mse: 454.9084 - val_loss: 21.2097 - val_mae: 21.2097 - val_mse: 506.0478\n",
            "Epoch 35/300\n",
            "10/10 [==============================] - 0s 3ms/step - loss: 19.9482 - mae: 19.9482 - mse: 449.8085 - val_loss: 21.0849 - val_mae: 21.0849 - val_mse: 500.2816\n",
            "Epoch 36/300\n",
            "10/10 [==============================] - 0s 3ms/step - loss: 19.8311 - mae: 19.8311 - mse: 444.7724 - val_loss: 20.9596 - val_mae: 20.9596 - val_mse: 494.5293\n",
            "Epoch 37/300\n",
            "10/10 [==============================] - 0s 3ms/step - loss: 19.7125 - mae: 19.7125 - mse: 439.5856 - val_loss: 20.8355 - val_mae: 20.8355 - val_mse: 488.8607\n",
            "Epoch 38/300\n",
            "10/10 [==============================] - 0s 3ms/step - loss: 19.5956 - mae: 19.5956 - mse: 434.6091 - val_loss: 20.7106 - val_mae: 20.7106 - val_mse: 483.1942\n",
            "Epoch 39/300\n",
            "10/10 [==============================] - 0s 3ms/step - loss: 19.4783 - mae: 19.4783 - mse: 429.6300 - val_loss: 20.5857 - val_mae: 20.5857 - val_mse: 477.5575\n",
            "Epoch 40/300\n",
            "10/10 [==============================] - 0s 3ms/step - loss: 19.3601 - mae: 19.3601 - mse: 424.5846 - val_loss: 20.4616 - val_mae: 20.4616 - val_mse: 471.9900\n",
            "Epoch 41/300\n",
            "10/10 [==============================] - 0s 3ms/step - loss: 19.2429 - mae: 19.2429 - mse: 419.6388 - val_loss: 20.3372 - val_mae: 20.3372 - val_mse: 466.4447\n",
            "Epoch 42/300\n",
            "10/10 [==============================] - 0s 4ms/step - loss: 19.1251 - mae: 19.1251 - mse: 414.6613 - val_loss: 20.2131 - val_mae: 20.2131 - val_mse: 460.9455\n",
            "Epoch 43/300\n",
            "10/10 [==============================] - 0s 3ms/step - loss: 19.0080 - mae: 19.0080 - mse: 409.7977 - val_loss: 20.0885 - val_mae: 20.0885 - val_mse: 455.4557\n",
            "Epoch 44/300\n",
            "10/10 [==============================] - 0s 3ms/step - loss: 18.8908 - mae: 18.8908 - mse: 404.9799 - val_loss: 19.9635 - val_mae: 19.9635 - val_mse: 449.9827\n",
            "Epoch 45/300\n",
            "10/10 [==============================] - 0s 3ms/step - loss: 18.7722 - mae: 18.7722 - mse: 400.0455 - val_loss: 19.8396 - val_mae: 19.8396 - val_mse: 444.5920\n",
            "Epoch 46/300\n",
            "10/10 [==============================] - 0s 3ms/step - loss: 18.6553 - mae: 18.6553 - mse: 395.2758 - val_loss: 19.7149 - val_mae: 19.7149 - val_mse: 439.2021\n",
            "Epoch 47/300\n",
            "10/10 [==============================] - 0s 3ms/step - loss: 18.5376 - mae: 18.5376 - mse: 390.4711 - val_loss: 19.5906 - val_mae: 19.5906 - val_mse: 433.8574\n",
            "Epoch 48/300\n",
            "10/10 [==============================] - 0s 3ms/step - loss: 18.4209 - mae: 18.4209 - mse: 385.7888 - val_loss: 19.4654 - val_mae: 19.4654 - val_mse: 428.5099\n",
            "Epoch 49/300\n",
            "10/10 [==============================] - 0s 3ms/step - loss: 18.3023 - mae: 18.3023 - mse: 381.0032 - val_loss: 19.3414 - val_mae: 19.3414 - val_mse: 423.2459\n",
            "Epoch 50/300\n",
            "10/10 [==============================] - 0s 3ms/step - loss: 18.1849 - mae: 18.1849 - mse: 376.3383 - val_loss: 19.2170 - val_mae: 19.2170 - val_mse: 418.0025\n",
            "Epoch 51/300\n",
            "10/10 [==============================] - 0s 3ms/step - loss: 18.0674 - mae: 18.0674 - mse: 371.6419 - val_loss: 19.0926 - val_mae: 19.0926 - val_mse: 412.7899\n",
            "Epoch 52/300\n",
            "10/10 [==============================] - 0s 3ms/step - loss: 17.9505 - mae: 17.9505 - mse: 367.0800 - val_loss: 18.9677 - val_mae: 18.9677 - val_mse: 407.5850\n",
            "Epoch 53/300\n",
            "10/10 [==============================] - 0s 3ms/step - loss: 17.8325 - mae: 17.8325 - mse: 362.4620 - val_loss: 18.8431 - val_mae: 18.8431 - val_mse: 402.4327\n",
            "Epoch 54/300\n",
            "10/10 [==============================] - 0s 3ms/step - loss: 17.7150 - mae: 17.7150 - mse: 357.8829 - val_loss: 18.7185 - val_mae: 18.7185 - val_mse: 397.3126\n",
            "Epoch 55/300\n",
            "10/10 [==============================] - 0s 3ms/step - loss: 17.5977 - mae: 17.5977 - mse: 353.3756 - val_loss: 18.5938 - val_mae: 18.5938 - val_mse: 392.2189\n",
            "Epoch 56/300\n",
            "10/10 [==============================] - 0s 3ms/step - loss: 17.4792 - mae: 17.4792 - mse: 348.7484 - val_loss: 18.4702 - val_mae: 18.4702 - val_mse: 387.2052\n",
            "Epoch 57/300\n",
            "10/10 [==============================] - 0s 5ms/step - loss: 17.3626 - mae: 17.3626 - mse: 344.3312 - val_loss: 18.3455 - val_mae: 18.3455 - val_mse: 382.1792\n",
            "Epoch 58/300\n",
            "10/10 [==============================] - 0s 3ms/step - loss: 17.2445 - mae: 17.2445 - mse: 339.8159 - val_loss: 18.2214 - val_mae: 18.2214 - val_mse: 377.2104\n",
            "Epoch 59/300\n",
            "10/10 [==============================] - 0s 3ms/step - loss: 17.1281 - mae: 17.1281 - mse: 335.5125 - val_loss: 18.0962 - val_mae: 18.0962 - val_mse: 372.2310\n",
            "Epoch 60/300\n",
            "10/10 [==============================] - 0s 3ms/step - loss: 17.0098 - mae: 17.0098 - mse: 331.0567 - val_loss: 17.9718 - val_mae: 17.9718 - val_mse: 367.3179\n",
            "Epoch 61/300\n",
            "10/10 [==============================] - 0s 3ms/step - loss: 16.8926 - mae: 16.8926 - mse: 326.7367 - val_loss: 17.8472 - val_mae: 17.8472 - val_mse: 362.4284\n",
            "Epoch 62/300\n",
            "10/10 [==============================] - 0s 3ms/step - loss: 16.7751 - mae: 16.7751 - mse: 322.3981 - val_loss: 17.7225 - val_mae: 17.7225 - val_mse: 357.5720\n",
            "Epoch 63/300\n",
            "10/10 [==============================] - 0s 3ms/step - loss: 16.6571 - mae: 16.6571 - mse: 318.0527 - val_loss: 17.5984 - val_mae: 17.5984 - val_mse: 352.7687\n",
            "Epoch 64/300\n",
            "10/10 [==============================] - 0s 3ms/step - loss: 16.5403 - mae: 16.5403 - mse: 313.8361 - val_loss: 17.4735 - val_mae: 17.4735 - val_mse: 347.9701\n",
            "Epoch 65/300\n",
            "10/10 [==============================] - 0s 3ms/step - loss: 16.4220 - mae: 16.4220 - mse: 309.5290 - val_loss: 17.3494 - val_mae: 17.3494 - val_mse: 343.2338\n",
            "Epoch 66/300\n",
            "10/10 [==============================] - 0s 3ms/step - loss: 16.3046 - mae: 16.3046 - mse: 305.2997 - val_loss: 17.2250 - val_mae: 17.2250 - val_mse: 338.5208\n",
            "Epoch 67/300\n",
            "10/10 [==============================] - 0s 3ms/step - loss: 16.1873 - mae: 16.1873 - mse: 301.1490 - val_loss: 17.1002 - val_mae: 17.1002 - val_mse: 333.8272\n",
            "Epoch 68/300\n",
            "10/10 [==============================] - 0s 3ms/step - loss: 16.0699 - mae: 16.0699 - mse: 297.0359 - val_loss: 16.9755 - val_mae: 16.9755 - val_mse: 329.1667\n",
            "Epoch 69/300\n",
            "10/10 [==============================] - 0s 3ms/step - loss: 15.9521 - mae: 15.9521 - mse: 292.8690 - val_loss: 16.8510 - val_mae: 16.8510 - val_mse: 324.5491\n",
            "Epoch 70/300\n",
            "10/10 [==============================] - 0s 3ms/step - loss: 15.8341 - mae: 15.8341 - mse: 288.7588 - val_loss: 16.7269 - val_mae: 16.7269 - val_mse: 319.9797\n",
            "Epoch 71/300\n",
            "10/10 [==============================] - 0s 3ms/step - loss: 15.7166 - mae: 15.7166 - mse: 284.6709 - val_loss: 16.6026 - val_mae: 16.6026 - val_mse: 315.4359\n",
            "Epoch 72/300\n",
            "10/10 [==============================] - 0s 3ms/step - loss: 15.5998 - mae: 15.5998 - mse: 280.6949 - val_loss: 16.4773 - val_mae: 16.4773 - val_mse: 310.8913\n",
            "Epoch 73/300\n",
            "10/10 [==============================] - 0s 3ms/step - loss: 15.4815 - mae: 15.4815 - mse: 276.6298 - val_loss: 16.3530 - val_mae: 16.3530 - val_mse: 306.4133\n",
            "Epoch 74/300\n",
            "10/10 [==============================] - 0s 3ms/step - loss: 15.3641 - mae: 15.3641 - mse: 272.6886 - val_loss: 16.2285 - val_mae: 16.2285 - val_mse: 301.9635\n",
            "Epoch 75/300\n",
            "10/10 [==============================] - 0s 3ms/step - loss: 15.2465 - mae: 15.2465 - mse: 268.7212 - val_loss: 16.1040 - val_mae: 16.1040 - val_mse: 297.5447\n",
            "Epoch 76/300\n",
            "10/10 [==============================] - 0s 3ms/step - loss: 15.1293 - mae: 15.1293 - mse: 264.8545 - val_loss: 15.9790 - val_mae: 15.9790 - val_mse: 293.1443\n",
            "Epoch 77/300\n",
            "10/10 [==============================] - 0s 3ms/step - loss: 15.0108 - mae: 15.0108 - mse: 260.8941 - val_loss: 15.8549 - val_mae: 15.8549 - val_mse: 288.8090\n",
            "Epoch 78/300\n",
            "10/10 [==============================] - 0s 3ms/step - loss: 14.8942 - mae: 14.8942 - mse: 257.0915 - val_loss: 15.7299 - val_mae: 15.7299 - val_mse: 284.4743\n",
            "Epoch 79/300\n",
            "10/10 [==============================] - 0s 3ms/step - loss: 14.7766 - mae: 14.7766 - mse: 253.2757 - val_loss: 15.6051 - val_mae: 15.6051 - val_mse: 280.1787\n",
            "Epoch 80/300\n",
            "10/10 [==============================] - 0s 3ms/step - loss: 14.6584 - mae: 14.6584 - mse: 249.4137 - val_loss: 15.4809 - val_mae: 15.4809 - val_mse: 275.9409\n",
            "Epoch 81/300\n",
            "10/10 [==============================] - 0s 3ms/step - loss: 14.5414 - mae: 14.5414 - mse: 245.6913 - val_loss: 15.3562 - val_mae: 15.3562 - val_mse: 271.7163\n",
            "Epoch 82/300\n",
            "10/10 [==============================] - 0s 3ms/step - loss: 14.4233 - mae: 14.4233 - mse: 241.8925 - val_loss: 15.2321 - val_mae: 15.2321 - val_mse: 267.5449\n",
            "Epoch 83/300\n",
            "10/10 [==============================] - 0s 3ms/step - loss: 14.3062 - mae: 14.3062 - mse: 238.2032 - val_loss: 15.1075 - val_mae: 15.1075 - val_mse: 263.3910\n",
            "Epoch 84/300\n",
            "10/10 [==============================] - 0s 3ms/step - loss: 14.1889 - mae: 14.1889 - mse: 234.5598 - val_loss: 14.9826 - val_mae: 14.9826 - val_mse: 259.2622\n",
            "Epoch 85/300\n",
            "10/10 [==============================] - 0s 3ms/step - loss: 14.0709 - mae: 14.0709 - mse: 230.8898 - val_loss: 14.8583 - val_mae: 14.8583 - val_mse: 255.1838\n",
            "Epoch 86/300\n",
            "10/10 [==============================] - 0s 3ms/step - loss: 13.9532 - mae: 13.9532 - mse: 227.2641 - val_loss: 14.7341 - val_mae: 14.7341 - val_mse: 251.1437\n",
            "Epoch 87/300\n",
            "10/10 [==============================] - 0s 4ms/step - loss: 13.8362 - mae: 13.8362 - mse: 223.7043 - val_loss: 14.6094 - val_mae: 14.6094 - val_mse: 247.1196\n",
            "Epoch 88/300\n",
            "10/10 [==============================] - 0s 3ms/step - loss: 13.7181 - mae: 13.7181 - mse: 220.0976 - val_loss: 14.4853 - val_mae: 14.4853 - val_mse: 243.1476\n",
            "Epoch 89/300\n",
            "10/10 [==============================] - 0s 3ms/step - loss: 13.6016 - mae: 13.6016 - mse: 216.6515 - val_loss: 14.3601 - val_mae: 14.3601 - val_mse: 239.1753\n",
            "Epoch 90/300\n",
            "10/10 [==============================] - 0s 3ms/step - loss: 13.4836 - mae: 13.4836 - mse: 213.1313 - val_loss: 14.2354 - val_mae: 14.2354 - val_mse: 235.2514\n",
            "Epoch 91/300\n",
            "10/10 [==============================] - 0s 3ms/step - loss: 13.3655 - mae: 13.3655 - mse: 209.6238 - val_loss: 14.1113 - val_mae: 14.1113 - val_mse: 231.3806\n",
            "Epoch 92/300\n",
            "10/10 [==============================] - 0s 3ms/step - loss: 13.2483 - mae: 13.2483 - mse: 206.1861 - val_loss: 13.9868 - val_mae: 13.9868 - val_mse: 227.5302\n",
            "Epoch 93/300\n",
            "10/10 [==============================] - 0s 3ms/step - loss: 13.1309 - mae: 13.1309 - mse: 202.7949 - val_loss: 13.8621 - val_mae: 13.8621 - val_mse: 223.7083\n",
            "Epoch 94/300\n",
            "10/10 [==============================] - 0s 3ms/step - loss: 13.0133 - mae: 13.0133 - mse: 199.4019 - val_loss: 13.7376 - val_mae: 13.7376 - val_mse: 219.9245\n",
            "Epoch 95/300\n",
            "10/10 [==============================] - 0s 3ms/step - loss: 12.8957 - mae: 12.8957 - mse: 196.0496 - val_loss: 13.6132 - val_mae: 13.6132 - val_mse: 216.1774\n",
            "Epoch 96/300\n",
            "10/10 [==============================] - 0s 3ms/step - loss: 12.7782 - mae: 12.7782 - mse: 192.7160 - val_loss: 13.4888 - val_mae: 13.4888 - val_mse: 212.4628\n",
            "Epoch 97/300\n",
            "10/10 [==============================] - 0s 4ms/step - loss: 12.6603 - mae: 12.6603 - mse: 189.3789 - val_loss: 13.3649 - val_mae: 13.3649 - val_mse: 208.7955\n",
            "Epoch 98/300\n",
            "10/10 [==============================] - 0s 3ms/step - loss: 12.5435 - mae: 12.5435 - mse: 186.1742 - val_loss: 13.2400 - val_mae: 13.2400 - val_mse: 205.1345\n",
            "Epoch 99/300\n",
            "10/10 [==============================] - 0s 3ms/step - loss: 12.4259 - mae: 12.4259 - mse: 182.9429 - val_loss: 13.1152 - val_mae: 13.1152 - val_mse: 201.5075\n",
            "Epoch 100/300\n",
            "10/10 [==============================] - 0s 4ms/step - loss: 12.3083 - mae: 12.3083 - mse: 179.7590 - val_loss: 12.9905 - val_mae: 12.9905 - val_mse: 197.9184\n",
            "Epoch 101/300\n",
            "10/10 [==============================] - 0s 3ms/step - loss: 12.1910 - mae: 12.1910 - mse: 176.6048 - val_loss: 12.8656 - val_mae: 12.8656 - val_mse: 194.3565\n",
            "Epoch 102/300\n",
            "10/10 [==============================] - 0s 3ms/step - loss: 12.0730 - mae: 12.0730 - mse: 173.4324 - val_loss: 12.7412 - val_mae: 12.7412 - val_mse: 190.8432\n",
            "Epoch 103/300\n",
            "10/10 [==============================] - 0s 3ms/step - loss: 11.9555 - mae: 11.9555 - mse: 170.2893 - val_loss: 12.6171 - val_mae: 12.6171 - val_mse: 187.3711\n",
            "Epoch 104/300\n",
            "10/10 [==============================] - 0s 3ms/step - loss: 11.8386 - mae: 11.8386 - mse: 167.2336 - val_loss: 12.4930 - val_mae: 12.4930 - val_mse: 183.9330\n",
            "Epoch 105/300\n",
            "10/10 [==============================] - 0s 3ms/step - loss: 11.7213 - mae: 11.7213 - mse: 164.1476 - val_loss: 12.3693 - val_mae: 12.3693 - val_mse: 180.5363\n",
            "Epoch 106/300\n",
            "10/10 [==============================] - 0s 3ms/step - loss: 11.6046 - mae: 11.6046 - mse: 161.1358 - val_loss: 12.2451 - val_mae: 12.2451 - val_mse: 177.1606\n",
            "Epoch 107/300\n",
            "10/10 [==============================] - 0s 4ms/step - loss: 11.4889 - mae: 11.4889 - mse: 158.1874 - val_loss: 12.1203 - val_mae: 12.1203 - val_mse: 173.8011\n",
            "Epoch 108/300\n",
            "10/10 [==============================] - 0s 3ms/step - loss: 11.3725 - mae: 11.3725 - mse: 155.2287 - val_loss: 11.9965 - val_mae: 11.9965 - val_mse: 170.5020\n",
            "Epoch 109/300\n",
            "10/10 [==============================] - 0s 3ms/step - loss: 11.2567 - mae: 11.2567 - mse: 152.3183 - val_loss: 11.8731 - val_mae: 11.8731 - val_mse: 167.2463\n",
            "Epoch 110/300\n",
            "10/10 [==============================] - 0s 3ms/step - loss: 11.1421 - mae: 11.1421 - mse: 149.4333 - val_loss: 11.7522 - val_mae: 11.7522 - val_mse: 164.0506\n",
            "Epoch 111/300\n",
            "10/10 [==============================] - 0s 3ms/step - loss: 11.0318 - mae: 11.0318 - mse: 146.6001 - val_loss: 11.6332 - val_mae: 11.6332 - val_mse: 160.9303\n",
            "Epoch 112/300\n",
            "10/10 [==============================] - 0s 3ms/step - loss: 10.9234 - mae: 10.9234 - mse: 143.8747 - val_loss: 11.5185 - val_mae: 11.5185 - val_mse: 157.8455\n",
            "Epoch 113/300\n",
            "10/10 [==============================] - 0s 3ms/step - loss: 10.8174 - mae: 10.8174 - mse: 141.1637 - val_loss: 11.4104 - val_mae: 11.4104 - val_mse: 154.8709\n",
            "Epoch 114/300\n",
            "10/10 [==============================] - 0s 3ms/step - loss: 10.7146 - mae: 10.7146 - mse: 138.5231 - val_loss: 11.3057 - val_mae: 11.3057 - val_mse: 151.9428\n",
            "Epoch 115/300\n",
            "10/10 [==============================] - 0s 3ms/step - loss: 10.6141 - mae: 10.6141 - mse: 135.9861 - val_loss: 11.2024 - val_mae: 11.2024 - val_mse: 149.0410\n",
            "Epoch 116/300\n",
            "10/10 [==============================] - 0s 4ms/step - loss: 10.5142 - mae: 10.5142 - mse: 133.4055 - val_loss: 11.1014 - val_mae: 11.1014 - val_mse: 146.2320\n",
            "Epoch 117/300\n",
            "10/10 [==============================] - 0s 3ms/step - loss: 10.4197 - mae: 10.4197 - mse: 130.9686 - val_loss: 11.0018 - val_mae: 11.0018 - val_mse: 143.4901\n",
            "Epoch 118/300\n",
            "10/10 [==============================] - 0s 3ms/step - loss: 10.3285 - mae: 10.3285 - mse: 128.5851 - val_loss: 10.9041 - val_mae: 10.9041 - val_mse: 140.8284\n",
            "Epoch 119/300\n",
            "10/10 [==============================] - 0s 3ms/step - loss: 10.2400 - mae: 10.2400 - mse: 126.2438 - val_loss: 10.8073 - val_mae: 10.8073 - val_mse: 138.2142\n",
            "Epoch 120/300\n",
            "10/10 [==============================] - 0s 3ms/step - loss: 10.1505 - mae: 10.1505 - mse: 123.9242 - val_loss: 10.7127 - val_mae: 10.7127 - val_mse: 135.6857\n",
            "Epoch 121/300\n",
            "10/10 [==============================] - 0s 3ms/step - loss: 10.0636 - mae: 10.0636 - mse: 121.6659 - val_loss: 10.6176 - val_mae: 10.6176 - val_mse: 133.1683\n",
            "Epoch 122/300\n",
            "10/10 [==============================] - 0s 3ms/step - loss: 9.9759 - mae: 9.9759 - mse: 119.4453 - val_loss: 10.5226 - val_mae: 10.5226 - val_mse: 130.6790\n",
            "Epoch 123/300\n",
            "10/10 [==============================] - 0s 3ms/step - loss: 9.8902 - mae: 9.8902 - mse: 117.2304 - val_loss: 10.4253 - val_mae: 10.4253 - val_mse: 128.1533\n",
            "Epoch 124/300\n",
            "10/10 [==============================] - 0s 3ms/step - loss: 9.8021 - mae: 9.8021 - mse: 115.0515 - val_loss: 10.3283 - val_mae: 10.3283 - val_mse: 125.6636\n",
            "Epoch 125/300\n",
            "10/10 [==============================] - 0s 3ms/step - loss: 9.7121 - mae: 9.7121 - mse: 112.8195 - val_loss: 10.2335 - val_mae: 10.2335 - val_mse: 123.2529\n",
            "Epoch 126/300\n",
            "10/10 [==============================] - 0s 3ms/step - loss: 9.6253 - mae: 9.6253 - mse: 110.6818 - val_loss: 10.1369 - val_mae: 10.1369 - val_mse: 120.8232\n",
            "Epoch 127/300\n",
            "10/10 [==============================] - 0s 3ms/step - loss: 9.5375 - mae: 9.5375 - mse: 108.5472 - val_loss: 10.0395 - val_mae: 10.0395 - val_mse: 118.4007\n",
            "Epoch 128/300\n",
            "10/10 [==============================] - 0s 3ms/step - loss: 9.4478 - mae: 9.4478 - mse: 106.3543 - val_loss: 9.9434 - val_mae: 9.9434 - val_mse: 116.0353\n",
            "Epoch 129/300\n",
            "10/10 [==============================] - 0s 3ms/step - loss: 9.3608 - mae: 9.3608 - mse: 104.3153 - val_loss: 9.8456 - val_mae: 9.8456 - val_mse: 113.6542\n",
            "Epoch 130/300\n",
            "10/10 [==============================] - 0s 4ms/step - loss: 9.2706 - mae: 9.2706 - mse: 102.1864 - val_loss: 9.7494 - val_mae: 9.7494 - val_mse: 111.3360\n",
            "Epoch 131/300\n",
            "10/10 [==============================] - 0s 3ms/step - loss: 9.1825 - mae: 9.1825 - mse: 100.1461 - val_loss: 9.6521 - val_mae: 9.6521 - val_mse: 109.0190\n",
            "Epoch 132/300\n",
            "10/10 [==============================] - 0s 4ms/step - loss: 9.0935 - mae: 9.0935 - mse: 98.1129 - val_loss: 9.5548 - val_mae: 9.5548 - val_mse: 106.7279\n",
            "Epoch 133/300\n",
            "10/10 [==============================] - 0s 3ms/step - loss: 9.0051 - mae: 9.0051 - mse: 96.0761 - val_loss: 9.4566 - val_mae: 9.4566 - val_mse: 104.4407\n",
            "Epoch 134/300\n",
            "10/10 [==============================] - 0s 3ms/step - loss: 8.9147 - mae: 8.9147 - mse: 94.0332 - val_loss: 9.3596 - val_mae: 9.3596 - val_mse: 102.2086\n",
            "Epoch 135/300\n",
            "10/10 [==============================] - 0s 3ms/step - loss: 8.8266 - mae: 8.8266 - mse: 92.0902 - val_loss: 9.2610 - val_mae: 9.2610 - val_mse: 99.9666\n",
            "Epoch 136/300\n",
            "10/10 [==============================] - 0s 3ms/step - loss: 8.7371 - mae: 8.7371 - mse: 90.1267 - val_loss: 9.1626 - val_mae: 9.1626 - val_mse: 97.7555\n",
            "Epoch 137/300\n",
            "10/10 [==============================] - 0s 3ms/step - loss: 8.6472 - mae: 8.6472 - mse: 88.1731 - val_loss: 9.0645 - val_mae: 9.0645 - val_mse: 95.5765\n",
            "Epoch 138/300\n",
            "10/10 [==============================] - 0s 3ms/step - loss: 8.5573 - mae: 8.5573 - mse: 86.2600 - val_loss: 8.9666 - val_mae: 8.9666 - val_mse: 93.4301\n",
            "Epoch 139/300\n",
            "10/10 [==============================] - 0s 3ms/step - loss: 8.4678 - mae: 8.4678 - mse: 84.3563 - val_loss: 8.8683 - val_mae: 8.8683 - val_mse: 91.3018\n",
            "Epoch 140/300\n",
            "10/10 [==============================] - 0s 3ms/step - loss: 8.3786 - mae: 8.3786 - mse: 82.4783 - val_loss: 8.7692 - val_mae: 8.7692 - val_mse: 89.1809\n",
            "Epoch 141/300\n",
            "10/10 [==============================] - 0s 3ms/step - loss: 8.2870 - mae: 8.2870 - mse: 80.5979 - val_loss: 8.6719 - val_mae: 8.6719 - val_mse: 87.1261\n",
            "Epoch 142/300\n",
            "10/10 [==============================] - 0s 3ms/step - loss: 8.1979 - mae: 8.1979 - mse: 78.7989 - val_loss: 8.5734 - val_mae: 8.5734 - val_mse: 85.0712\n",
            "Epoch 143/300\n",
            "10/10 [==============================] - 0s 4ms/step - loss: 8.1080 - mae: 8.1080 - mse: 76.9887 - val_loss: 8.4746 - val_mae: 8.4746 - val_mse: 83.0387\n",
            "Epoch 144/300\n",
            "10/10 [==============================] - 0s 3ms/step - loss: 8.0172 - mae: 8.0172 - mse: 75.1635 - val_loss: 8.3762 - val_mae: 8.3762 - val_mse: 81.0401\n",
            "Epoch 145/300\n",
            "10/10 [==============================] - 0s 3ms/step - loss: 7.9271 - mae: 7.9271 - mse: 73.3923 - val_loss: 8.2773 - val_mae: 8.2773 - val_mse: 79.0577\n",
            "Epoch 146/300\n",
            "10/10 [==============================] - 0s 3ms/step - loss: 7.8360 - mae: 7.8360 - mse: 71.6506 - val_loss: 8.1786 - val_mae: 8.1786 - val_mse: 77.1067\n",
            "Epoch 147/300\n",
            "10/10 [==============================] - 0s 3ms/step - loss: 7.7460 - mae: 7.7460 - mse: 69.9390 - val_loss: 8.0791 - val_mae: 8.0791 - val_mse: 75.1668\n",
            "Epoch 148/300\n",
            "10/10 [==============================] - 0s 3ms/step - loss: 7.6566 - mae: 7.6566 - mse: 68.2513 - val_loss: 7.9781 - val_mae: 7.9781 - val_mse: 73.2274\n",
            "Epoch 149/300\n",
            "10/10 [==============================] - 0s 3ms/step - loss: 7.5631 - mae: 7.5631 - mse: 66.5258 - val_loss: 7.8799 - val_mae: 7.8799 - val_mse: 71.3671\n",
            "Epoch 150/300\n",
            "10/10 [==============================] - 0s 3ms/step - loss: 7.4721 - mae: 7.4721 - mse: 64.8726 - val_loss: 7.7817 - val_mae: 7.7817 - val_mse: 69.5320\n",
            "Epoch 151/300\n",
            "10/10 [==============================] - 0s 3ms/step - loss: 7.3847 - mae: 7.3847 - mse: 63.2744 - val_loss: 7.6793 - val_mae: 7.6793 - val_mse: 67.6493\n",
            "Epoch 152/300\n",
            "10/10 [==============================] - 0s 3ms/step - loss: 7.2901 - mae: 7.2901 - mse: 61.6124 - val_loss: 7.5805 - val_mae: 7.5805 - val_mse: 65.8584\n",
            "Epoch 153/300\n",
            "10/10 [==============================] - 0s 4ms/step - loss: 7.1986 - mae: 7.1986 - mse: 60.0195 - val_loss: 7.4816 - val_mae: 7.4816 - val_mse: 64.0940\n",
            "Epoch 154/300\n",
            "10/10 [==============================] - 0s 4ms/step - loss: 7.1082 - mae: 7.1082 - mse: 58.4707 - val_loss: 7.3815 - val_mae: 7.3815 - val_mse: 62.3338\n",
            "Epoch 155/300\n",
            "10/10 [==============================] - 0s 3ms/step - loss: 7.0172 - mae: 7.0172 - mse: 56.9150 - val_loss: 7.2807 - val_mae: 7.2807 - val_mse: 60.5899\n",
            "Epoch 156/300\n",
            "10/10 [==============================] - 0s 3ms/step - loss: 6.9255 - mae: 6.9255 - mse: 55.4007 - val_loss: 7.1800 - val_mae: 7.1800 - val_mse: 58.8759\n",
            "Epoch 157/300\n",
            "10/10 [==============================] - 0s 3ms/step - loss: 6.8342 - mae: 6.8342 - mse: 53.9028 - val_loss: 7.0789 - val_mae: 7.0789 - val_mse: 57.1837\n",
            "Epoch 158/300\n",
            "10/10 [==============================] - 0s 4ms/step - loss: 6.7414 - mae: 6.7414 - mse: 52.4082 - val_loss: 6.9792 - val_mae: 6.9792 - val_mse: 55.5412\n",
            "Epoch 159/300\n",
            "10/10 [==============================] - 0s 3ms/step - loss: 6.6500 - mae: 6.6500 - mse: 50.9703 - val_loss: 6.8788 - val_mae: 6.8788 - val_mse: 53.9152\n",
            "Epoch 160/300\n",
            "10/10 [==============================] - 0s 3ms/step - loss: 6.5583 - mae: 6.5583 - mse: 49.5300 - val_loss: 6.7779 - val_mae: 6.7779 - val_mse: 52.3095\n",
            "Epoch 161/300\n",
            "10/10 [==============================] - 0s 3ms/step - loss: 6.4663 - mae: 6.4663 - mse: 48.1314 - val_loss: 6.6771 - val_mae: 6.6771 - val_mse: 50.7326\n",
            "Epoch 162/300\n",
            "10/10 [==============================] - 0s 3ms/step - loss: 6.3745 - mae: 6.3745 - mse: 46.7508 - val_loss: 6.5758 - val_mae: 6.5758 - val_mse: 49.1770\n",
            "Epoch 163/300\n",
            "10/10 [==============================] - 0s 3ms/step - loss: 6.2811 - mae: 6.2811 - mse: 45.3689 - val_loss: 6.4758 - val_mae: 6.4758 - val_mse: 47.6694\n",
            "Epoch 164/300\n",
            "10/10 [==============================] - 0s 3ms/step - loss: 6.1886 - mae: 6.1886 - mse: 44.0251 - val_loss: 6.3763 - val_mae: 6.3763 - val_mse: 46.1948\n",
            "Epoch 165/300\n",
            "10/10 [==============================] - 0s 3ms/step - loss: 6.0983 - mae: 6.0983 - mse: 42.7425 - val_loss: 6.2742 - val_mae: 6.2742 - val_mse: 44.7109\n",
            "Epoch 166/300\n",
            "10/10 [==============================] - 0s 3ms/step - loss: 6.0045 - mae: 6.0045 - mse: 41.4425 - val_loss: 6.1734 - val_mae: 6.1734 - val_mse: 43.2748\n",
            "Epoch 167/300\n",
            "10/10 [==============================] - 0s 3ms/step - loss: 5.9137 - mae: 5.9137 - mse: 40.1950 - val_loss: 6.0708 - val_mae: 6.0708 - val_mse: 41.8413\n",
            "Epoch 168/300\n",
            "10/10 [==============================] - 0s 3ms/step - loss: 5.8187 - mae: 5.8187 - mse: 38.9192 - val_loss: 5.9708 - val_mae: 5.9708 - val_mse: 40.4719\n",
            "Epoch 169/300\n",
            "10/10 [==============================] - 0s 3ms/step - loss: 5.7272 - mae: 5.7272 - mse: 37.7223 - val_loss: 5.8694 - val_mae: 5.8694 - val_mse: 39.1113\n",
            "Epoch 170/300\n",
            "10/10 [==============================] - 0s 3ms/step - loss: 5.6341 - mae: 5.6341 - mse: 36.5328 - val_loss: 5.7682 - val_mae: 5.7682 - val_mse: 37.7814\n",
            "Epoch 171/300\n",
            "10/10 [==============================] - 0s 3ms/step - loss: 5.5419 - mae: 5.5419 - mse: 35.3634 - val_loss: 5.6661 - val_mae: 5.6661 - val_mse: 36.4684\n",
            "Epoch 172/300\n",
            "10/10 [==============================] - 0s 3ms/step - loss: 5.4501 - mae: 5.4501 - mse: 34.2272 - val_loss: 5.5628 - val_mae: 5.5628 - val_mse: 35.1693\n",
            "Epoch 173/300\n",
            "10/10 [==============================] - 0s 3ms/step - loss: 5.3559 - mae: 5.3559 - mse: 33.1093 - val_loss: 5.4611 - val_mae: 5.4611 - val_mse: 33.9183\n",
            "Epoch 174/300\n",
            "10/10 [==============================] - 0s 4ms/step - loss: 5.2633 - mae: 5.2633 - mse: 32.0206 - val_loss: 5.3596 - val_mae: 5.3596 - val_mse: 32.6998\n",
            "Epoch 175/300\n",
            "10/10 [==============================] - 0s 3ms/step - loss: 5.1695 - mae: 5.1695 - mse: 30.9290 - val_loss: 5.2597 - val_mae: 5.2597 - val_mse: 31.5265\n",
            "Epoch 176/300\n",
            "10/10 [==============================] - 0s 3ms/step - loss: 5.0800 - mae: 5.0800 - mse: 29.9277 - val_loss: 5.1581 - val_mae: 5.1581 - val_mse: 30.3431\n",
            "Epoch 177/300\n",
            "10/10 [==============================] - 0s 3ms/step - loss: 4.9858 - mae: 4.9858 - mse: 28.8921 - val_loss: 5.0588 - val_mae: 5.0588 - val_mse: 29.2097\n",
            "Epoch 178/300\n",
            "10/10 [==============================] - 0s 3ms/step - loss: 4.8943 - mae: 4.8943 - mse: 27.8957 - val_loss: 4.9584 - val_mae: 4.9584 - val_mse: 28.0925\n",
            "Epoch 179/300\n",
            "10/10 [==============================] - 0s 3ms/step - loss: 4.7997 - mae: 4.7997 - mse: 26.9185 - val_loss: 4.8603 - val_mae: 4.8603 - val_mse: 27.0294\n",
            "Epoch 180/300\n",
            "10/10 [==============================] - 0s 4ms/step - loss: 4.7081 - mae: 4.7081 - mse: 25.9882 - val_loss: 4.7610 - val_mae: 4.7610 - val_mse: 25.9806\n",
            "Epoch 181/300\n",
            "10/10 [==============================] - 0s 3ms/step - loss: 4.6165 - mae: 4.6165 - mse: 25.0851 - val_loss: 4.6604 - val_mae: 4.6604 - val_mse: 24.9472\n",
            "Epoch 182/300\n",
            "10/10 [==============================] - 0s 4ms/step - loss: 4.5231 - mae: 4.5231 - mse: 24.1846 - val_loss: 4.5609 - val_mae: 4.5609 - val_mse: 23.9533\n",
            "Epoch 183/300\n",
            "10/10 [==============================] - 0s 3ms/step - loss: 4.4322 - mae: 4.4322 - mse: 23.3374 - val_loss: 4.4610 - val_mae: 4.4610 - val_mse: 22.9846\n",
            "Epoch 184/300\n",
            "10/10 [==============================] - 0s 3ms/step - loss: 4.3407 - mae: 4.3407 - mse: 22.4931 - val_loss: 4.3619 - val_mae: 4.3619 - val_mse: 22.0517\n",
            "Epoch 185/300\n",
            "10/10 [==============================] - 0s 3ms/step - loss: 4.2505 - mae: 4.2505 - mse: 21.6983 - val_loss: 4.2619 - val_mae: 4.2619 - val_mse: 21.1384\n",
            "Epoch 186/300\n",
            "10/10 [==============================] - 0s 3ms/step - loss: 4.1573 - mae: 4.1573 - mse: 20.8799 - val_loss: 4.1641 - val_mae: 4.1641 - val_mse: 20.2736\n",
            "Epoch 187/300\n",
            "10/10 [==============================] - 0s 3ms/step - loss: 4.0681 - mae: 4.0681 - mse: 20.1312 - val_loss: 4.0641 - val_mae: 4.0641 - val_mse: 19.4175\n",
            "Epoch 188/300\n",
            "10/10 [==============================] - 0s 3ms/step - loss: 3.9762 - mae: 3.9762 - mse: 19.3815 - val_loss: 3.9664 - val_mae: 3.9664 - val_mse: 18.6085\n",
            "Epoch 189/300\n",
            "10/10 [==============================] - 0s 3ms/step - loss: 3.8899 - mae: 3.8899 - mse: 18.6972 - val_loss: 3.8686 - val_mae: 3.8686 - val_mse: 17.8261\n",
            "Epoch 190/300\n",
            "10/10 [==============================] - 0s 3ms/step - loss: 3.8050 - mae: 3.8050 - mse: 18.0221 - val_loss: 3.7709 - val_mae: 3.7709 - val_mse: 17.0725\n",
            "Epoch 191/300\n",
            "10/10 [==============================] - 0s 5ms/step - loss: 3.7170 - mae: 3.7170 - mse: 17.3729 - val_loss: 3.6770 - val_mae: 3.6770 - val_mse: 16.3731\n",
            "Epoch 192/300\n",
            "10/10 [==============================] - 0s 5ms/step - loss: 3.6347 - mae: 3.6347 - mse: 16.7687 - val_loss: 3.5805 - val_mae: 3.5805 - val_mse: 15.6812\n",
            "Epoch 193/300\n",
            "10/10 [==============================] - 0s 3ms/step - loss: 3.5495 - mae: 3.5495 - mse: 16.1747 - val_loss: 3.4857 - val_mae: 3.4857 - val_mse: 15.0274\n",
            "Epoch 194/300\n",
            "10/10 [==============================] - 0s 3ms/step - loss: 3.4672 - mae: 3.4672 - mse: 15.6197 - val_loss: 3.3900 - val_mae: 3.3900 - val_mse: 14.3934\n",
            "Epoch 195/300\n",
            "10/10 [==============================] - 0s 4ms/step - loss: 3.3840 - mae: 3.3840 - mse: 15.0607 - val_loss: 3.2960 - val_mae: 3.2960 - val_mse: 13.7910\n",
            "Epoch 196/300\n",
            "10/10 [==============================] - 0s 4ms/step - loss: 3.3028 - mae: 3.3028 - mse: 14.5534 - val_loss: 3.2056 - val_mae: 3.2056 - val_mse: 13.2200\n",
            "Epoch 197/300\n",
            "10/10 [==============================] - 0s 3ms/step - loss: 3.2228 - mae: 3.2228 - mse: 14.0782 - val_loss: 3.1149 - val_mae: 3.1149 - val_mse: 12.6727\n",
            "Epoch 198/300\n",
            "10/10 [==============================] - 0s 3ms/step - loss: 3.1410 - mae: 3.1410 - mse: 13.5792 - val_loss: 3.0270 - val_mae: 3.0270 - val_mse: 12.1662\n",
            "Epoch 199/300\n",
            "10/10 [==============================] - 0s 3ms/step - loss: 3.0645 - mae: 3.0645 - mse: 13.1583 - val_loss: 2.9393 - val_mae: 2.9393 - val_mse: 11.6729\n",
            "Epoch 200/300\n",
            "10/10 [==============================] - 0s 3ms/step - loss: 2.9874 - mae: 2.9874 - mse: 12.7692 - val_loss: 2.8520 - val_mae: 2.8520 - val_mse: 11.2023\n",
            "Epoch 201/300\n",
            "10/10 [==============================] - 0s 3ms/step - loss: 2.9073 - mae: 2.9073 - mse: 12.3400 - val_loss: 2.7684 - val_mae: 2.7684 - val_mse: 10.7722\n",
            "Epoch 202/300\n",
            "10/10 [==============================] - 0s 4ms/step - loss: 2.8330 - mae: 2.8330 - mse: 11.9926 - val_loss: 2.6854 - val_mae: 2.6854 - val_mse: 10.3593\n",
            "Epoch 203/300\n",
            "10/10 [==============================] - 0s 3ms/step - loss: 2.7578 - mae: 2.7578 - mse: 11.6377 - val_loss: 2.6047 - val_mae: 2.6047 - val_mse: 9.9814\n",
            "Epoch 204/300\n",
            "10/10 [==============================] - 0s 3ms/step - loss: 2.6861 - mae: 2.6861 - mse: 11.3109 - val_loss: 2.5227 - val_mae: 2.5227 - val_mse: 9.6207\n",
            "Epoch 205/300\n",
            "10/10 [==============================] - 0s 3ms/step - loss: 2.6147 - mae: 2.6147 - mse: 11.0281 - val_loss: 2.4438 - val_mae: 2.4438 - val_mse: 9.2882\n",
            "Epoch 206/300\n",
            "10/10 [==============================] - 0s 3ms/step - loss: 2.5469 - mae: 2.5469 - mse: 10.7565 - val_loss: 2.3699 - val_mae: 2.3699 - val_mse: 8.9920\n",
            "Epoch 207/300\n",
            "10/10 [==============================] - 0s 3ms/step - loss: 2.4842 - mae: 2.4842 - mse: 10.5232 - val_loss: 2.2955 - val_mae: 2.2955 - val_mse: 8.7151\n",
            "Epoch 208/300\n",
            "10/10 [==============================] - 0s 4ms/step - loss: 2.4230 - mae: 2.4230 - mse: 10.2794 - val_loss: 2.2270 - val_mae: 2.2270 - val_mse: 8.4785\n",
            "Epoch 209/300\n",
            "10/10 [==============================] - 0s 4ms/step - loss: 2.3715 - mae: 2.3715 - mse: 10.0871 - val_loss: 2.1651 - val_mae: 2.1651 - val_mse: 8.2749\n",
            "Epoch 210/300\n",
            "10/10 [==============================] - 0s 3ms/step - loss: 2.3275 - mae: 2.3275 - mse: 9.9264 - val_loss: 2.1058 - val_mae: 2.1058 - val_mse: 8.0944\n",
            "Epoch 211/300\n",
            "10/10 [==============================] - 0s 4ms/step - loss: 2.2868 - mae: 2.2868 - mse: 9.7990 - val_loss: 2.0494 - val_mae: 2.0494 - val_mse: 7.9334\n",
            "Epoch 212/300\n",
            "10/10 [==============================] - 0s 3ms/step - loss: 2.2497 - mae: 2.2497 - mse: 9.6729 - val_loss: 1.9951 - val_mae: 1.9951 - val_mse: 7.7879\n",
            "Epoch 213/300\n",
            "10/10 [==============================] - 0s 3ms/step - loss: 2.2160 - mae: 2.2160 - mse: 9.5530 - val_loss: 1.9506 - val_mae: 1.9506 - val_mse: 7.6702\n",
            "Epoch 214/300\n",
            "10/10 [==============================] - 0s 3ms/step - loss: 2.1871 - mae: 2.1871 - mse: 9.4545 - val_loss: 1.9109 - val_mae: 1.9109 - val_mse: 7.5714\n",
            "Epoch 215/300\n",
            "10/10 [==============================] - 0s 3ms/step - loss: 2.1610 - mae: 2.1610 - mse: 9.3818 - val_loss: 1.8709 - val_mae: 1.8709 - val_mse: 7.4803\n",
            "Epoch 216/300\n",
            "10/10 [==============================] - 0s 3ms/step - loss: 2.1348 - mae: 2.1348 - mse: 9.3115 - val_loss: 1.8354 - val_mae: 1.8354 - val_mse: 7.3988\n",
            "Epoch 217/300\n",
            "10/10 [==============================] - 0s 3ms/step - loss: 2.1115 - mae: 2.1115 - mse: 9.2449 - val_loss: 1.8109 - val_mae: 1.8109 - val_mse: 7.3329\n",
            "Epoch 218/300\n",
            "10/10 [==============================] - 0s 3ms/step - loss: 2.0917 - mae: 2.0917 - mse: 9.1981 - val_loss: 1.7868 - val_mae: 1.7868 - val_mse: 7.2749\n",
            "Epoch 219/300\n",
            "10/10 [==============================] - 0s 3ms/step - loss: 2.0724 - mae: 2.0724 - mse: 9.1527 - val_loss: 1.7628 - val_mae: 1.7628 - val_mse: 7.2235\n",
            "Epoch 220/300\n",
            "10/10 [==============================] - 0s 5ms/step - loss: 2.0536 - mae: 2.0536 - mse: 9.1184 - val_loss: 1.7414 - val_mae: 1.7414 - val_mse: 7.1797\n",
            "Epoch 221/300\n",
            "10/10 [==============================] - 0s 4ms/step - loss: 2.0374 - mae: 2.0374 - mse: 9.0933 - val_loss: 1.7234 - val_mae: 1.7234 - val_mse: 7.1439\n",
            "Epoch 222/300\n",
            "10/10 [==============================] - 0s 3ms/step - loss: 2.0226 - mae: 2.0226 - mse: 9.0686 - val_loss: 1.7077 - val_mae: 1.7077 - val_mse: 7.1149\n",
            "Epoch 223/300\n",
            "10/10 [==============================] - 0s 3ms/step - loss: 2.0090 - mae: 2.0090 - mse: 9.0500 - val_loss: 1.6944 - val_mae: 1.6944 - val_mse: 7.0928\n",
            "Epoch 224/300\n",
            "10/10 [==============================] - 0s 3ms/step - loss: 1.9958 - mae: 1.9958 - mse: 9.0307 - val_loss: 1.6843 - val_mae: 1.6843 - val_mse: 7.0773\n",
            "Epoch 225/300\n",
            "10/10 [==============================] - 0s 4ms/step - loss: 1.9870 - mae: 1.9870 - mse: 9.0222 - val_loss: 1.6754 - val_mae: 1.6754 - val_mse: 7.0654\n",
            "Epoch 226/300\n",
            "10/10 [==============================] - 0s 3ms/step - loss: 1.9784 - mae: 1.9784 - mse: 9.0194 - val_loss: 1.6671 - val_mae: 1.6671 - val_mse: 7.0571\n",
            "Epoch 227/300\n",
            "10/10 [==============================] - 0s 3ms/step - loss: 1.9710 - mae: 1.9710 - mse: 9.0165 - val_loss: 1.6582 - val_mae: 1.6582 - val_mse: 7.0515\n",
            "Epoch 228/300\n",
            "10/10 [==============================] - 0s 4ms/step - loss: 1.9616 - mae: 1.9616 - mse: 9.0149 - val_loss: 1.6512 - val_mae: 1.6512 - val_mse: 7.0492\n",
            "Epoch 229/300\n",
            "10/10 [==============================] - 0s 4ms/step - loss: 1.9574 - mae: 1.9574 - mse: 9.0237 - val_loss: 1.6481 - val_mae: 1.6481 - val_mse: 7.0492\n",
            "Epoch 230/300\n",
            "10/10 [==============================] - 0s 3ms/step - loss: 1.9529 - mae: 1.9529 - mse: 9.0188 - val_loss: 1.6460 - val_mae: 1.6460 - val_mse: 7.0502\n",
            "Epoch 231/300\n",
            "10/10 [==============================] - 0s 4ms/step - loss: 1.9502 - mae: 1.9502 - mse: 9.0271 - val_loss: 1.6439 - val_mae: 1.6439 - val_mse: 7.0523\n",
            "Epoch 232/300\n",
            "10/10 [==============================] - 0s 3ms/step - loss: 1.9476 - mae: 1.9476 - mse: 9.0281 - val_loss: 1.6417 - val_mae: 1.6417 - val_mse: 7.0554\n",
            "Epoch 233/300\n",
            "10/10 [==============================] - 0s 3ms/step - loss: 1.9444 - mae: 1.9444 - mse: 9.0342 - val_loss: 1.6400 - val_mae: 1.6400 - val_mse: 7.0586\n",
            "Epoch 234/300\n",
            "10/10 [==============================] - 0s 3ms/step - loss: 1.9425 - mae: 1.9425 - mse: 9.0439 - val_loss: 1.6375 - val_mae: 1.6375 - val_mse: 7.0645\n",
            "Epoch 235/300\n",
            "10/10 [==============================] - 0s 3ms/step - loss: 1.9397 - mae: 1.9397 - mse: 9.0511 - val_loss: 1.6379 - val_mae: 1.6379 - val_mse: 7.0700\n",
            "Epoch 236/300\n",
            "10/10 [==============================] - 0s 3ms/step - loss: 1.9378 - mae: 1.9378 - mse: 9.0544 - val_loss: 1.6384 - val_mae: 1.6384 - val_mse: 7.0740\n",
            "Epoch 237/300\n",
            "10/10 [==============================] - 0s 4ms/step - loss: 1.9369 - mae: 1.9369 - mse: 9.0638 - val_loss: 1.6391 - val_mae: 1.6391 - val_mse: 7.0801\n",
            "Epoch 238/300\n",
            "10/10 [==============================] - 0s 3ms/step - loss: 1.9356 - mae: 1.9356 - mse: 9.0684 - val_loss: 1.6400 - val_mae: 1.6400 - val_mse: 7.0859\n",
            "Epoch 239/300\n",
            "10/10 [==============================] - 0s 3ms/step - loss: 1.9346 - mae: 1.9346 - mse: 9.0715 - val_loss: 1.6407 - val_mae: 1.6407 - val_mse: 7.0881\n",
            "Epoch 240/300\n",
            "10/10 [==============================] - 0s 3ms/step - loss: 1.9345 - mae: 1.9345 - mse: 9.0753 - val_loss: 1.6415 - val_mae: 1.6415 - val_mse: 7.0908\n",
            "Epoch 241/300\n",
            "10/10 [==============================] - 0s 4ms/step - loss: 1.9341 - mae: 1.9341 - mse: 9.0769 - val_loss: 1.6418 - val_mae: 1.6418 - val_mse: 7.0918\n",
            "Epoch 242/300\n",
            "10/10 [==============================] - 0s 3ms/step - loss: 1.9340 - mae: 1.9340 - mse: 9.0789 - val_loss: 1.6424 - val_mae: 1.6424 - val_mse: 7.0939\n",
            "Epoch 243/300\n",
            "10/10 [==============================] - 0s 3ms/step - loss: 1.9341 - mae: 1.9341 - mse: 9.0833 - val_loss: 1.6435 - val_mae: 1.6435 - val_mse: 7.0979\n",
            "Epoch 244/300\n",
            "10/10 [==============================] - 0s 3ms/step - loss: 1.9335 - mae: 1.9335 - mse: 9.0848 - val_loss: 1.6437 - val_mae: 1.6437 - val_mse: 7.0987\n",
            "Epoch 245/300\n",
            "10/10 [==============================] - 0s 3ms/step - loss: 1.9334 - mae: 1.9334 - mse: 9.0864 - val_loss: 1.6443 - val_mae: 1.6443 - val_mse: 7.1007\n",
            "Epoch 246/300\n",
            "10/10 [==============================] - 0s 3ms/step - loss: 1.9332 - mae: 1.9332 - mse: 9.0875 - val_loss: 1.6444 - val_mae: 1.6444 - val_mse: 7.1009\n",
            "Epoch 247/300\n",
            "10/10 [==============================] - 0s 4ms/step - loss: 1.9330 - mae: 1.9330 - mse: 9.0888 - val_loss: 1.6449 - val_mae: 1.6449 - val_mse: 7.1028\n",
            "Epoch 248/300\n",
            "10/10 [==============================] - 0s 3ms/step - loss: 1.9329 - mae: 1.9329 - mse: 9.0920 - val_loss: 1.6456 - val_mae: 1.6456 - val_mse: 7.1057\n",
            "Epoch 249/300\n",
            "10/10 [==============================] - 0s 3ms/step - loss: 1.9327 - mae: 1.9327 - mse: 9.0955 - val_loss: 1.6464 - val_mae: 1.6464 - val_mse: 7.1093\n",
            "Epoch 250/300\n",
            "10/10 [==============================] - 0s 4ms/step - loss: 1.9325 - mae: 1.9325 - mse: 9.0991 - val_loss: 1.6471 - val_mae: 1.6471 - val_mse: 7.1122\n",
            "Epoch 251/300\n",
            "10/10 [==============================] - 0s 4ms/step - loss: 1.9323 - mae: 1.9323 - mse: 9.1000 - val_loss: 1.6472 - val_mae: 1.6472 - val_mse: 7.1122\n",
            "Epoch 252/300\n",
            "10/10 [==============================] - 0s 4ms/step - loss: 1.9323 - mae: 1.9323 - mse: 9.1028 - val_loss: 1.6483 - val_mae: 1.6483 - val_mse: 7.1159\n",
            "Epoch 253/300\n",
            "10/10 [==============================] - 0s 4ms/step - loss: 1.9320 - mae: 1.9320 - mse: 9.1045 - val_loss: 1.6484 - val_mae: 1.6484 - val_mse: 7.1161\n",
            "Epoch 254/300\n",
            "10/10 [==============================] - 0s 4ms/step - loss: 1.9319 - mae: 1.9319 - mse: 9.1055 - val_loss: 1.6488 - val_mae: 1.6488 - val_mse: 7.1170\n",
            "Epoch 255/300\n",
            "10/10 [==============================] - 0s 3ms/step - loss: 1.9319 - mae: 1.9319 - mse: 9.1060 - val_loss: 1.6489 - val_mae: 1.6489 - val_mse: 7.1170\n",
            "Epoch 256/300\n",
            "10/10 [==============================] - 0s 4ms/step - loss: 1.9321 - mae: 1.9321 - mse: 9.1115 - val_loss: 1.6505 - val_mae: 1.6505 - val_mse: 7.1231\n",
            "Epoch 257/300\n",
            "10/10 [==============================] - 0s 3ms/step - loss: 1.9316 - mae: 1.9316 - mse: 9.1136 - val_loss: 1.6511 - val_mae: 1.6511 - val_mse: 7.1249\n",
            "Epoch 258/300\n",
            "10/10 [==============================] - 0s 3ms/step - loss: 1.9315 - mae: 1.9315 - mse: 9.1140 - val_loss: 1.6512 - val_mae: 1.6512 - val_mse: 7.1248\n",
            "Epoch 259/300\n",
            "10/10 [==============================] - 0s 5ms/step - loss: 1.9313 - mae: 1.9313 - mse: 9.1155 - val_loss: 1.6518 - val_mae: 1.6518 - val_mse: 7.1273\n",
            "Epoch 260/300\n",
            "10/10 [==============================] - 0s 3ms/step - loss: 1.9313 - mae: 1.9313 - mse: 9.1193 - val_loss: 1.6526 - val_mae: 1.6526 - val_mse: 7.1302\n",
            "Epoch 261/300\n",
            "10/10 [==============================] - 0s 3ms/step - loss: 1.9311 - mae: 1.9311 - mse: 9.1217 - val_loss: 1.6533 - val_mae: 1.6533 - val_mse: 7.1327\n",
            "Epoch 262/300\n",
            "10/10 [==============================] - 0s 3ms/step - loss: 1.9310 - mae: 1.9310 - mse: 9.1231 - val_loss: 1.6537 - val_mae: 1.6537 - val_mse: 7.1342\n",
            "Epoch 263/300\n",
            "10/10 [==============================] - 0s 4ms/step - loss: 1.9310 - mae: 1.9310 - mse: 9.1267 - val_loss: 1.6547 - val_mae: 1.6547 - val_mse: 7.1380\n",
            "Epoch 264/300\n",
            "10/10 [==============================] - 0s 3ms/step - loss: 1.9307 - mae: 1.9307 - mse: 9.1285 - val_loss: 1.6548 - val_mae: 1.6548 - val_mse: 7.1381\n",
            "Epoch 265/300\n",
            "10/10 [==============================] - 0s 4ms/step - loss: 1.9306 - mae: 1.9306 - mse: 9.1301 - val_loss: 1.6553 - val_mae: 1.6553 - val_mse: 7.1399\n",
            "Epoch 266/300\n",
            "10/10 [==============================] - 0s 4ms/step - loss: 1.9306 - mae: 1.9306 - mse: 9.1333 - val_loss: 1.6562 - val_mae: 1.6562 - val_mse: 7.1439\n",
            "Epoch 267/300\n",
            "10/10 [==============================] - 0s 3ms/step - loss: 1.9304 - mae: 1.9304 - mse: 9.1361 - val_loss: 1.6568 - val_mae: 1.6568 - val_mse: 7.1462\n",
            "Epoch 268/300\n",
            "10/10 [==============================] - 0s 3ms/step - loss: 1.9302 - mae: 1.9302 - mse: 9.1371 - val_loss: 1.6569 - val_mae: 1.6569 - val_mse: 7.1462\n",
            "Epoch 269/300\n",
            "10/10 [==============================] - 0s 4ms/step - loss: 1.9301 - mae: 1.9301 - mse: 9.1394 - val_loss: 1.6577 - val_mae: 1.6577 - val_mse: 7.1496\n",
            "Epoch 270/300\n",
            "10/10 [==============================] - 0s 3ms/step - loss: 1.9301 - mae: 1.9301 - mse: 9.1412 - val_loss: 1.6578 - val_mae: 1.6578 - val_mse: 7.1498\n",
            "Epoch 271/300\n",
            "10/10 [==============================] - 0s 3ms/step - loss: 1.9299 - mae: 1.9299 - mse: 9.1418 - val_loss: 1.6585 - val_mae: 1.6585 - val_mse: 7.1526\n",
            "Epoch 272/300\n",
            "10/10 [==============================] - 0s 3ms/step - loss: 1.9298 - mae: 1.9298 - mse: 9.1472 - val_loss: 1.6596 - val_mae: 1.6596 - val_mse: 7.1576\n",
            "Epoch 273/300\n",
            "10/10 [==============================] - 0s 4ms/step - loss: 1.9296 - mae: 1.9296 - mse: 9.1513 - val_loss: 1.6603 - val_mae: 1.6603 - val_mse: 7.1608\n",
            "Epoch 274/300\n",
            "10/10 [==============================] - 0s 4ms/step - loss: 1.9295 - mae: 1.9295 - mse: 9.1538 - val_loss: 1.6607 - val_mae: 1.6607 - val_mse: 7.1625\n",
            "Epoch 275/300\n",
            "10/10 [==============================] - 0s 3ms/step - loss: 1.9294 - mae: 1.9294 - mse: 9.1548 - val_loss: 1.6611 - val_mae: 1.6611 - val_mse: 7.1641\n",
            "Epoch 276/300\n",
            "10/10 [==============================] - 0s 4ms/step - loss: 1.9293 - mae: 1.9293 - mse: 9.1584 - val_loss: 1.6621 - val_mae: 1.6621 - val_mse: 7.1687\n",
            "Epoch 277/300\n",
            "10/10 [==============================] - 0s 3ms/step - loss: 1.9291 - mae: 1.9291 - mse: 9.1610 - val_loss: 1.6623 - val_mae: 1.6623 - val_mse: 7.1697\n",
            "Epoch 278/300\n",
            "10/10 [==============================] - 0s 4ms/step - loss: 1.9291 - mae: 1.9291 - mse: 9.1640 - val_loss: 1.6627 - val_mae: 1.6627 - val_mse: 7.1712\n",
            "Epoch 279/300\n",
            "10/10 [==============================] - 0s 3ms/step - loss: 1.9291 - mae: 1.9291 - mse: 9.1624 - val_loss: 1.6621 - val_mae: 1.6621 - val_mse: 7.1678\n",
            "Epoch 280/300\n",
            "10/10 [==============================] - 0s 4ms/step - loss: 1.9289 - mae: 1.9289 - mse: 9.1611 - val_loss: 1.6625 - val_mae: 1.6625 - val_mse: 7.1697\n",
            "Epoch 281/300\n",
            "10/10 [==============================] - 0s 3ms/step - loss: 1.9290 - mae: 1.9290 - mse: 9.1631 - val_loss: 1.6628 - val_mae: 1.6628 - val_mse: 7.1702\n",
            "Epoch 282/300\n",
            "10/10 [==============================] - 0s 4ms/step - loss: 1.9289 - mae: 1.9289 - mse: 9.1597 - val_loss: 1.6617 - val_mae: 1.6617 - val_mse: 7.1648\n",
            "Epoch 283/300\n",
            "10/10 [==============================] - 0s 4ms/step - loss: 1.9289 - mae: 1.9289 - mse: 9.1567 - val_loss: 1.6617 - val_mae: 1.6617 - val_mse: 7.1641\n",
            "Epoch 284/300\n",
            "10/10 [==============================] - 0s 3ms/step - loss: 1.9288 - mae: 1.9288 - mse: 9.1571 - val_loss: 1.6621 - val_mae: 1.6621 - val_mse: 7.1657\n",
            "Epoch 285/300\n",
            "10/10 [==============================] - 0s 3ms/step - loss: 1.9288 - mae: 1.9288 - mse: 9.1581 - val_loss: 1.6621 - val_mae: 1.6621 - val_mse: 7.1658\n",
            "Epoch 286/300\n",
            "10/10 [==============================] - 0s 3ms/step - loss: 1.9286 - mae: 1.9286 - mse: 9.1592 - val_loss: 1.6625 - val_mae: 1.6625 - val_mse: 7.1672\n",
            "Epoch 287/300\n",
            "10/10 [==============================] - 0s 4ms/step - loss: 1.9286 - mae: 1.9286 - mse: 9.1588 - val_loss: 1.6622 - val_mae: 1.6622 - val_mse: 7.1653\n",
            "Epoch 288/300\n",
            "10/10 [==============================] - 0s 4ms/step - loss: 1.9285 - mae: 1.9285 - mse: 9.1573 - val_loss: 1.6621 - val_mae: 1.6621 - val_mse: 7.1641\n",
            "Epoch 289/300\n",
            "10/10 [==============================] - 0s 3ms/step - loss: 1.9285 - mae: 1.9285 - mse: 9.1577 - val_loss: 1.6621 - val_mae: 1.6621 - val_mse: 7.1641\n",
            "Epoch 290/300\n",
            "10/10 [==============================] - 0s 4ms/step - loss: 1.9284 - mae: 1.9284 - mse: 9.1575 - val_loss: 1.6622 - val_mae: 1.6622 - val_mse: 7.1639\n",
            "Epoch 291/300\n",
            "10/10 [==============================] - 0s 4ms/step - loss: 1.9285 - mae: 1.9285 - mse: 9.1552 - val_loss: 1.6614 - val_mae: 1.6614 - val_mse: 7.1595\n",
            "Epoch 292/300\n",
            "10/10 [==============================] - 0s 3ms/step - loss: 1.9287 - mae: 1.9287 - mse: 9.1569 - val_loss: 1.6624 - val_mae: 1.6624 - val_mse: 7.1641\n",
            "Epoch 293/300\n",
            "10/10 [==============================] - 0s 3ms/step - loss: 1.9285 - mae: 1.9285 - mse: 9.1562 - val_loss: 1.6614 - val_mae: 1.6614 - val_mse: 7.1590\n",
            "Epoch 294/300\n",
            "10/10 [==============================] - 0s 3ms/step - loss: 1.9283 - mae: 1.9283 - mse: 9.1526 - val_loss: 1.6616 - val_mae: 1.6616 - val_mse: 7.1596\n",
            "Epoch 295/300\n",
            "10/10 [==============================] - 0s 3ms/step - loss: 1.9284 - mae: 1.9284 - mse: 9.1541 - val_loss: 1.6623 - val_mae: 1.6623 - val_mse: 7.1624\n",
            "Epoch 296/300\n",
            "10/10 [==============================] - 0s 3ms/step - loss: 1.9282 - mae: 1.9282 - mse: 9.1552 - val_loss: 1.6616 - val_mae: 1.6616 - val_mse: 7.1586\n",
            "Epoch 297/300\n",
            "10/10 [==============================] - 0s 3ms/step - loss: 1.9284 - mae: 1.9284 - mse: 9.1496 - val_loss: 1.6604 - val_mae: 1.6604 - val_mse: 7.1520\n",
            "Epoch 298/300\n",
            "10/10 [==============================] - 0s 4ms/step - loss: 1.9284 - mae: 1.9284 - mse: 9.1482 - val_loss: 1.6616 - val_mae: 1.6616 - val_mse: 7.1580\n",
            "Epoch 299/300\n",
            "10/10 [==============================] - 0s 3ms/step - loss: 1.9281 - mae: 1.9281 - mse: 9.1513 - val_loss: 1.6615 - val_mae: 1.6615 - val_mse: 7.1570\n",
            "Epoch 300/300\n",
            "10/10 [==============================] - 0s 3ms/step - loss: 1.9280 - mae: 1.9280 - mse: 9.1507 - val_loss: 1.6617 - val_mae: 1.6617 - val_mse: 7.1576\n"
          ],
          "name": "stdout"
        }
      ]
    },
    {
      "cell_type": "code",
      "metadata": {
        "id": "6zYkLGS6wQyy",
        "colab": {
          "base_uri": "https://localhost:8080/"
        },
        "outputId": "96ac5432-adc0-4778-f845-056cc11565a1"
      },
      "source": [
        "print(history)"
      ],
      "execution_count": 26,
      "outputs": [
        {
          "output_type": "stream",
          "text": [
            "<tensorflow.python.keras.callbacks.History object at 0x7ff744916bd0>\n"
          ],
          "name": "stdout"
        }
      ]
    },
    {
      "cell_type": "code",
      "metadata": {
        "colab": {
          "base_uri": "https://localhost:8080/"
        },
        "id": "1lsbk_ohAu1j",
        "outputId": "816f9c5f-0fae-410d-d30c-78acf401f861"
      },
      "source": [
        "model.summary()"
      ],
      "execution_count": 27,
      "outputs": [
        {
          "output_type": "stream",
          "text": [
            "Model: \"sequential\"\n",
            "_________________________________________________________________\n",
            "Layer (type)                 Output Shape              Param #   \n",
            "=================================================================\n",
            "dense (Dense)                (None, 1)                 2         \n",
            "=================================================================\n",
            "Total params: 2\n",
            "Trainable params: 2\n",
            "Non-trainable params: 0\n",
            "_________________________________________________________________\n"
          ],
          "name": "stdout"
        }
      ]
    },
    {
      "cell_type": "code",
      "metadata": {
        "colab": {
          "base_uri": "https://localhost:8080/",
          "height": 1000
        },
        "id": "P6VnkPim7tH7",
        "outputId": "545911b4-4dda-4650-94f2-bb1031a7c47a"
      },
      "source": [
        "def curvePlots(tempString):\n",
        "  plt.plot(history.history[tempString])\n",
        "  plt.plot(history.history[f'val_{tempString}'])\n",
        "  plt.xlabel('NumEpochs')\n",
        "  plt.ylabel(tempString)\n",
        "  plt.legend([tempString, f'val_{tempString}'])\n",
        "  plt.show()\n",
        "\n",
        "\n",
        "curvePlots('mse')\n",
        "curvePlots('mae')\n",
        "curvePlots('loss')"
      ],
      "execution_count": 31,
      "outputs": [
        {
          "output_type": "display_data",
          "data": {
            "image/png": "[encoded data removed]",
            "text/plain": [
              "<Figure size 576x396 with 1 Axes>"
            ]
          },
          "metadata": {
            "tags": []
          }
        },
        {
          "output_type": "display_data",
          "data": {
            "image/png": "[encoded data removed]",
            "text/plain": [
              "<Figure size 576x396 with 1 Axes>"
            ]
          },
          "metadata": {
            "tags": []
          }
        },
        {
          "output_type": "display_data",
          "data": {
            "image/png": "[encoded data removed]",
            "text/plain": [
              "<Figure size 576x396 with 1 Axes>"
            ]
          },
          "metadata": {
            "tags": []
          }
        }
      ]
    },
    {
      "cell_type": "code",
      "metadata": {
        "id": "esW0eHQbzoj4",
        "colab": {
          "base_uri": "https://localhost:8080/"
        },
        "outputId": "9a815517-8d45-447e-9199-d72db343b634"
      },
      "source": [
        "model.predict([1])"
      ],
      "execution_count": 32,
      "outputs": [
        {
          "output_type": "execute_result",
          "data": {
            "text/plain": [
              "array([[2.8180008]], dtype=float32)"
            ]
          },
          "metadata": {
            "tags": []
          },
          "execution_count": 32
        }
      ]
    },
    {
      "cell_type": "code",
      "metadata": {
        "colab": {
          "base_uri": "https://localhost:8080/"
        },
        "id": "KJrLWamX8Tg-",
        "outputId": "8580c657-e7b7-44c0-c40d-23476aa0ad29"
      },
      "source": [
        "print(f'Prediction for input value 1: {model.predict([1])}')\n",
        "\n",
        "\n",
        "# for a list of values\n",
        "temp_Preds = [1,2,3,4,5]\n",
        "print(f'''\n",
        "\n",
        "input List = {temp_Preds}\n",
        "\n",
        "\n",
        "List of Predictions:\n",
        "{model.predict(temp_Preds)}\n",
        "\n",
        "List of Predictions (flattened out):\n",
        "{model.predict(temp_Preds).flatten()}\n",
        "''')"
      ],
      "execution_count": 33,
      "outputs": [
        {
          "output_type": "stream",
          "text": [
            "Prediction for input value 1: [[2.8180008]]\n",
            "\n",
            "\n",
            "input List = [1, 2, 3, 4, 5]\n",
            "\n",
            "\n",
            "List of Predictions:\n",
            "[[2.8180008]\n",
            " [3.6527414]\n",
            " [4.487482 ]\n",
            " [5.3222227]\n",
            " [6.1569633]]\n",
            "\n",
            "List of Predictions (flattened out):\n",
            "[2.8180008 3.6527414 4.487482  5.3222227 6.1569633]\n",
            "\n"
          ],
          "name": "stdout"
        }
      ]
    },
    {
      "cell_type": "code",
      "metadata": {
        "id": "vJNFh6hc0K6r",
        "colab": {
          "base_uri": "https://localhost:8080/"
        },
        "outputId": "8bb8026e-e84f-4142-a7c1-0a1f48f9fe2c"
      },
      "source": [
        "print(testFeatures)"
      ],
      "execution_count": 34,
      "outputs": [
        {
          "output_type": "stream",
          "text": [
            "     G1\n",
            "9    14\n",
            "25    6\n",
            "28   11\n",
            "31   17\n",
            "32   17\n",
            "..   ..\n",
            "365  10\n",
            "367   7\n",
            "379  10\n",
            "381   7\n",
            "393  11\n",
            "\n",
            "[79 rows x 1 columns]\n"
          ],
          "name": "stdout"
        }
      ]
    },
    {
      "cell_type": "code",
      "metadata": {
        "id": "MniGZOu50IyN"
      },
      "source": [
        "testPreds = model.predict(testFeatures).flatten()"
      ],
      "execution_count": 35,
      "outputs": []
    },
    {
      "cell_type": "code",
      "metadata": {
        "id": "du0Orwu40Qan",
        "colab": {
          "base_uri": "https://localhost:8080/"
        },
        "outputId": "919dbdc7-e31b-46c1-ac2b-f5fdff6a6470"
      },
      "source": [
        "print(len(testPreds))\n",
        "print(testPreds)"
      ],
      "execution_count": 36,
      "outputs": [
        {
          "output_type": "stream",
          "text": [
            "79\n",
            "[13.669627   6.991703  11.165406  16.17385   16.17385   12.000146\n",
            " 13.669627  17.84333   17.84333    8.661184  13.669627  12.834887\n",
            "  8.661184   7.8264437  9.495925  12.834887  11.165406  15.339108\n",
            "  7.8264437 10.330666  14.504368  12.834887  13.669627  15.339108\n",
            "  7.8264437  7.8264437  8.661184  10.330666  12.000146  10.330666\n",
            " 12.000146  12.834887  10.330666   6.991703   9.495925  12.000146\n",
            "  7.8264437  8.661184  13.669627   9.495925   9.495925   7.8264437\n",
            " 12.000146   6.991703  12.834887   7.8264437  7.8264437 11.165406\n",
            " 12.834887  16.17385   12.000146  14.504368   9.495925  12.000146\n",
            " 14.504368  12.000146  14.504368  12.000146  14.504368  11.165406\n",
            " 12.000146   8.661184  15.339108   7.8264437 15.339108  11.165406\n",
            " 15.339108  12.834887   8.661184   8.661184  12.000146  17.00859\n",
            " 12.834887  15.339108  10.330666   7.8264437 10.330666   7.8264437\n",
            " 11.165406 ]\n"
          ],
          "name": "stdout"
        }
      ]
    },
    {
      "cell_type": "code",
      "metadata": {
        "colab": {
          "base_uri": "https://localhost:8080/",
          "height": 361
        },
        "id": "EfP8bB_v89Wa",
        "outputId": "a4e3c0f9-efc2-4179-a0a7-5e975c2e1c8a"
      },
      "source": [
        "def predPlot(labels, predictions):\n",
        "  plt.scatter(labels, predictions)\n",
        "  plt.ylabel('Predictions')\n",
        "  plt.xlabel('True Value or Labels')\n",
        "  plt.axis('equal')\n",
        "  plt.axis('square')\n",
        "  plt.xlim([0, plt.xlim()[1]])\n",
        "  plt.ylim([0, plt.ylim()[1]])\n",
        "  plt.show()\n",
        "\n",
        "predPlot(test_Labels, testPreds)"
      ],
      "execution_count": 37,
      "outputs": [
        {
          "output_type": "display_data",
          "data": {
            "image/png": "[encoded data removed]",
            "text/plain": [
              "<Figure size 576x396 with 1 Axes>"
            ]
          },
          "metadata": {
            "tags": []
          }
        }
      ]
    },
    {
      "cell_type": "code",
      "metadata": {
        "colab": {
          "base_uri": "https://localhost:8080/",
          "height": 361
        },
        "id": "70608Z0o9tWL",
        "outputId": "05c6136b-c1f4-40f0-c472-d35aac1236ba"
      },
      "source": [
        "def errorPlot(preds, labels, counts):\n",
        "  errors = preds - labels\n",
        "  plt.hist(errors, counts)\n",
        "  plt.xlabel('Error')\n",
        "  plt.ylabel('Counts')\n",
        "  plt.show()\n",
        "\n",
        "errorPlot(testPreds, test_Labels, numEpochs)"
      ],
      "execution_count": 38,
      "outputs": [
        {
          "output_type": "display_data",
          "data": {
            "image/png": "[encoded data removed]",
            "text/plain": [
              "<Figure size 576x396 with 1 Axes>"
            ]
          },
          "metadata": {
            "tags": []
          }
        }
      ]
    }
  ]
}